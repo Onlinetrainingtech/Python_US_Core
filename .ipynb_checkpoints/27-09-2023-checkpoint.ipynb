{
 "cells": [
  {
   "cell_type": "code",
   "execution_count": 1,
   "id": "ee5b16d6",
   "metadata": {},
   "outputs": [
    {
     "name": "stdout",
     "output_type": "stream",
     "text": [
      "100\n"
     ]
    }
   ],
   "source": [
    "pid=100\n",
    "print(pid)"
   ]
  },
  {
   "cell_type": "code",
   "execution_count": 5,
   "id": "9c643cdc",
   "metadata": {},
   "outputs": [
    {
     "name": "stdout",
     "output_type": "stream",
     "text": [
      "Enter the p1 value is::2\n",
      "Enter the p2 value is::2\n",
      "Your result is:: 4\n"
     ]
    }
   ],
   "source": [
    "#Runtime input\n",
    "p1=int(input(\"Enter the p1 value is::\"))\n",
    "p2=int(input(\"Enter the p2 value is::\"))\n",
    "result=p1*p2\n",
    "#print(\"Your value is::\",p1,p2)\n",
    "print(\"Your result is::\",result)"
   ]
  },
  {
   "cell_type": "code",
   "execution_count": null,
   "id": "2f3fe5d7",
   "metadata": {},
   "outputs": [],
   "source": [
    "#Control Statement\n",
    "age=int(input(\"Enter the age is::\"))\n",
    "if(age>60):\n",
    "    salary=int(input(\"Enter the salary is::\"))\n",
    "    if(salary>=2000):\n",
    "        bns=salary+1000;\n",
    "    else:\n",
    "        bns=salary+2000;\n",
    "else:\n",
    "    print(\"Your age is low..\")"
   ]
  }
 ],
 "metadata": {
  "kernelspec": {
   "display_name": "Python 3 (ipykernel)",
   "language": "python",
   "name": "python3"
  },
  "language_info": {
   "codemirror_mode": {
    "name": "ipython",
    "version": 3
   },
   "file_extension": ".py",
   "mimetype": "text/x-python",
   "name": "python",
   "nbconvert_exporter": "python",
   "pygments_lexer": "ipython3",
   "version": "3.10.9"
  }
 },
 "nbformat": 4,
 "nbformat_minor": 5
}
