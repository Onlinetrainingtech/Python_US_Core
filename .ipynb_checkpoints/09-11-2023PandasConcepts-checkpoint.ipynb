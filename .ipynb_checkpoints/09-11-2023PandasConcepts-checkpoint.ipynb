{
 "cells": [
  {
   "cell_type": "code",
   "execution_count": 2,
   "id": "3ba1f5bb",
   "metadata": {},
   "outputs": [
    {
     "name": "stdout",
     "output_type": "stream",
     "text": [
      "Series([], dtype: float64)\n",
      "<class 'pandas.core.series.Series'>\n"
     ]
    },
    {
     "name": "stderr",
     "output_type": "stream",
     "text": [
      "C:\\Users\\azart\\AppData\\Local\\Temp\\ipykernel_24852\\263796719.py:2: FutureWarning: The default dtype for empty Series will be 'object' instead of 'float64' in a future version. Specify a dtype explicitly to silence this warning.\n",
      "  s1=pd.Series()\n"
     ]
    }
   ],
   "source": [
    "import pandas as pd\n",
    "s1=pd.Series()\n",
    "print(s1)\n",
    "print(type(s1))"
   ]
  },
  {
   "cell_type": "code",
   "execution_count": 4,
   "id": "2c6695b4",
   "metadata": {},
   "outputs": [
    {
     "name": "stdout",
     "output_type": "stream",
     "text": [
      "0    10\n",
      "1    20\n",
      "2    30\n",
      "3    40\n",
      "4    50\n",
      "dtype: int32\n"
     ]
    }
   ],
   "source": [
    "import pandas as pd\n",
    "import numpy as np\n",
    "arr=np.array([10,20,30,40,50])\n",
    "s1=pd.Series(arr)\n",
    "print(s1)"
   ]
  },
  {
   "cell_type": "code",
   "execution_count": 5,
   "id": "1844034c",
   "metadata": {},
   "outputs": [
    {
     "name": "stdout",
     "output_type": "stream",
     "text": [
      "a    10\n",
      "b    20\n",
      "c    30\n",
      "dtype: int64\n"
     ]
    }
   ],
   "source": [
    "data={'a':10,'b':20,'c':30}\n",
    "s1=pd.Series(data)\n",
    "print(s1)"
   ]
  },
  {
   "cell_type": "code",
   "execution_count": 7,
   "id": "187d9539",
   "metadata": {},
   "outputs": [
    {
     "name": "stdout",
     "output_type": "stream",
     "text": [
      "1    20\n",
      "2    30\n",
      "3    40\n",
      "dtype: int64\n"
     ]
    }
   ],
   "source": [
    "s1=pd.Series([10,20,30,40,50])\n",
    "print(s1[1:4])"
   ]
  },
  {
   "cell_type": "code",
   "execution_count": null,
   "id": "ecb00177",
   "metadata": {},
   "outputs": [],
   "source": [
    "#DataFrame"
   ]
  },
  {
   "cell_type": "code",
   "execution_count": 8,
   "id": "223c93e7",
   "metadata": {},
   "outputs": [
    {
     "name": "stdout",
     "output_type": "stream",
     "text": [
      "    0\n",
      "0  10\n",
      "1  20\n",
      "2  30\n",
      "3  40\n"
     ]
    }
   ],
   "source": [
    "listx=[10,20,30,40]\n",
    "t1=pd.DataFrame(listx)\n",
    "print(t1)"
   ]
  },
  {
   "cell_type": "code",
   "execution_count": 9,
   "id": "252a180c",
   "metadata": {},
   "outputs": [
    {
     "name": "stdout",
     "output_type": "stream",
     "text": [
      "   a  b    c\n",
      "0  1  2  NaN\n",
      "1  2  4  8.0\n"
     ]
    }
   ],
   "source": [
    "data=[{'a':1,'b':2},{'a':2,'b':4,'c':8}]\n",
    "table=pd.DataFrame(data)\n",
    "print(table)"
   ]
  },
  {
   "cell_type": "code",
   "execution_count": 10,
   "id": "d2e26525",
   "metadata": {},
   "outputs": [
    {
     "name": "stdout",
     "output_type": "stream",
     "text": [
      "        a  b    c\n",
      "first   1  2  NaN\n",
      "second  2  4  8.0\n"
     ]
    }
   ],
   "source": [
    "data=[{'a':1,'b':2},{'a':2,'b':4,'c':8}]\n",
    "table=pd.DataFrame(data,index=['first','second'])\n",
    "print(table)"
   ]
  },
  {
   "cell_type": "code",
   "execution_count": 13,
   "id": "809724a7",
   "metadata": {},
   "outputs": [
    {
     "name": "stdout",
     "output_type": "stream",
     "text": [
      "   one  two\n",
      "a    1    1\n",
      "b    2    2\n",
      "c    3    3\n",
      "d    4    4\n"
     ]
    }
   ],
   "source": [
    "data={'one':pd.Series([1,2,3,4],index=['a','b','c','d']),\n",
    "     'two':pd.Series([1,2,3,4],index=['a','b','c','d'])}\n",
    "table=pd.DataFrame(data)\n",
    "print(table)\n"
   ]
  },
  {
   "cell_type": "code",
   "execution_count": null,
   "id": "f2178051",
   "metadata": {},
   "outputs": [],
   "source": [
    "#DataFrame-Addition and deletion of columns"
   ]
  },
  {
   "cell_type": "code",
   "execution_count": 15,
   "id": "a5565128",
   "metadata": {},
   "outputs": [
    {
     "name": "stdout",
     "output_type": "stream",
     "text": [
      "   one  two\n",
      "a  1.0    1\n",
      "b  2.0    2\n",
      "c  3.0    3\n",
      "d  NaN    4\n"
     ]
    }
   ],
   "source": [
    "data={'one':pd.Series([1,2,3],index=['a','b','c']),\n",
    "     'two':pd.Series([1,2,3,4],index=['a','b','c','d'])}\n",
    "table=pd.DataFrame(data)\n",
    "print(table)"
   ]
  },
  {
   "cell_type": "code",
   "execution_count": 21,
   "id": "3b58451e",
   "metadata": {},
   "outputs": [
    {
     "name": "stdout",
     "output_type": "stream",
     "text": [
      "   one  two  three\n",
      "a    1    1   10.0\n",
      "b    2    2   20.0\n",
      "c    3    3   30.0\n",
      "d    4    4    NaN\n"
     ]
    }
   ],
   "source": [
    "data={'one':pd.Series([1,2,3,4],index=['a','b','c','d']),\n",
    "     'two':pd.Series([1,2,3,4],index=['a','b','c','d'])}\n",
    "table=pd.DataFrame(data)\n",
    "table['three']=pd.Series([10,20,30],index=['a','b','c'])\n",
    "print(table)"
   ]
  },
  {
   "cell_type": "code",
   "execution_count": 17,
   "id": "53ec5db9",
   "metadata": {},
   "outputs": [
    {
     "name": "stdout",
     "output_type": "stream",
     "text": [
      "   two  three\n",
      "a    1   10.0\n",
      "b    2   20.0\n",
      "c    3   30.0\n",
      "d    4    NaN\n"
     ]
    }
   ],
   "source": [
    "del table['one']\n",
    "print(table)"
   ]
  },
  {
   "cell_type": "code",
   "execution_count": 19,
   "id": "01a75dcc",
   "metadata": {},
   "outputs": [
    {
     "name": "stdout",
     "output_type": "stream",
     "text": [
      "   three\n",
      "a   10.0\n",
      "b   20.0\n",
      "c   30.0\n",
      "d    NaN\n"
     ]
    }
   ],
   "source": [
    "table.pop('two')\n",
    "print(table)"
   ]
  },
  {
   "cell_type": "code",
   "execution_count": null,
   "id": "64bfa1cb",
   "metadata": {},
   "outputs": [],
   "source": [
    "#Dataframe-Add and delete the row"
   ]
  },
  {
   "cell_type": "code",
   "execution_count": 22,
   "id": "c5530444",
   "metadata": {},
   "outputs": [
    {
     "name": "stdout",
     "output_type": "stream",
     "text": [
      "   one  two  three\n",
      "a    1    1   10.0\n",
      "b    2    2   20.0\n",
      "c    3    3   30.0\n",
      "d    4    4    NaN\n"
     ]
    }
   ],
   "source": [
    "print(table)"
   ]
  },
  {
   "cell_type": "code",
   "execution_count": 23,
   "id": "1fdfa574",
   "metadata": {},
   "outputs": [
    {
     "name": "stdout",
     "output_type": "stream",
     "text": [
      "one       3.0\n",
      "two       3.0\n",
      "three    30.0\n",
      "Name: c, dtype: float64\n"
     ]
    }
   ],
   "source": [
    "print(table.loc['c'])"
   ]
  },
  {
   "cell_type": "code",
   "execution_count": 24,
   "id": "332d02bb",
   "metadata": {},
   "outputs": [
    {
     "name": "stdout",
     "output_type": "stream",
     "text": [
      "one       3.0\n",
      "two       3.0\n",
      "three    30.0\n",
      "Name: c, dtype: float64\n"
     ]
    }
   ],
   "source": [
    "print(table.iloc[2])"
   ]
  },
  {
   "cell_type": "code",
   "execution_count": 25,
   "id": "8d107588",
   "metadata": {},
   "outputs": [
    {
     "name": "stdout",
     "output_type": "stream",
     "text": [
      "   one  two  three\n",
      "a    1    1   10.0\n",
      "b    2    2   20.0\n",
      "c    3    3   30.0\n",
      "d    4    4    NaN\n",
      "   one  two  three\n",
      "a  1.0    1   10.0\n",
      "b  2.0    2   20.0\n",
      "c  3.0    3   30.0\n",
      "d  4.0    4    NaN\n",
      "0  NaN   11   13.0\n",
      "1  NaN   17   19.0\n"
     ]
    },
    {
     "name": "stderr",
     "output_type": "stream",
     "text": [
      "C:\\Users\\azart\\AppData\\Local\\Temp\\ipykernel_24852\\1416471002.py:7: FutureWarning: The frame.append method is deprecated and will be removed from pandas in a future version. Use pandas.concat instead.\n",
      "  table=table.append(row)\n"
     ]
    }
   ],
   "source": [
    "data={'one':pd.Series([1,2,3,4],index=['a','b','c','d']),\n",
    "     'two':pd.Series([1,2,3,4],index=['a','b','c','d'])}\n",
    "table=pd.DataFrame(data)\n",
    "table['three']=pd.Series([10,20,30],index=['a','b','c'])\n",
    "print(table)\n",
    "row=pd.DataFrame([[11,13],[17,19]],columns=['two','three'])\n",
    "table=table.append(row)\n",
    "print(table)"
   ]
  },
  {
   "cell_type": "code",
   "execution_count": 26,
   "id": "1f183678",
   "metadata": {},
   "outputs": [
    {
     "name": "stdout",
     "output_type": "stream",
     "text": [
      "   one  two  three\n",
      "b  2.0    2   20.0\n",
      "c  3.0    3   30.0\n",
      "d  4.0    4    NaN\n",
      "0  NaN   11   13.0\n",
      "1  NaN   17   19.0\n",
      "0  NaN   11   13.0\n",
      "1  NaN   17   19.0\n"
     ]
    },
    {
     "name": "stderr",
     "output_type": "stream",
     "text": [
      "C:\\Users\\azart\\AppData\\Local\\Temp\\ipykernel_24852\\389079256.py:2: FutureWarning: The frame.append method is deprecated and will be removed from pandas in a future version. Use pandas.concat instead.\n",
      "  table=table.append(row)\n"
     ]
    }
   ],
   "source": [
    "row=pd.DataFrame([[11,13],[17,19]],columns=['two','three'])\n",
    "table=table.append(row)\n",
    "table=table.drop('a')\n",
    "print(table)"
   ]
  },
  {
   "cell_type": "code",
   "execution_count": null,
   "id": "482995dd",
   "metadata": {},
   "outputs": [],
   "source": [
    "#DataFrame read_csv(),to_csv,read_excel(),to_excel()"
   ]
  }
 ],
 "metadata": {
  "kernelspec": {
   "display_name": "Python 3 (ipykernel)",
   "language": "python",
   "name": "python3"
  },
  "language_info": {
   "codemirror_mode": {
    "name": "ipython",
    "version": 3
   },
   "file_extension": ".py",
   "mimetype": "text/x-python",
   "name": "python",
   "nbconvert_exporter": "python",
   "pygments_lexer": "ipython3",
   "version": "3.10.9"
  }
 },
 "nbformat": 4,
 "nbformat_minor": 5
}
