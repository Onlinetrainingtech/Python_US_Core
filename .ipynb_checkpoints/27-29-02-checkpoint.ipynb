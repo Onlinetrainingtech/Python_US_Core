{
 "cells": [
  {
   "cell_type": "code",
   "execution_count": 1,
   "id": "504662ec",
   "metadata": {},
   "outputs": [
    {
     "name": "stdout",
     "output_type": "stream",
     "text": [
      "100\n"
     ]
    }
   ],
   "source": [
    "pid=100\n",
    "print(pid)"
   ]
  },
  {
   "cell_type": "code",
   "execution_count": 5,
   "id": "e3c3f6c4",
   "metadata": {},
   "outputs": [
    {
     "name": "stdout",
     "output_type": "stream",
     "text": [
      "Enter the p1 value is::2\n",
      "Enter the p2 value is::2\n",
      "Your result is:: 4\n"
     ]
    }
   ],
   "source": [
    "#Runtime input\n",
    "p1=int(input(\"Enter the p1 value is::\"))\n",
    "p2=int(input(\"Enter the p2 value is::\"))\n",
    "result=p1*p2\n",
    "#print(\"Your value is::\",p1,p2)\n",
    "print(\"Your result is::\",result)"
   ]
  },
  {
   "cell_type": "code",
   "execution_count": 6,
   "id": "16a8b540",
   "metadata": {},
   "outputs": [
    {
     "name": "stdout",
     "output_type": "stream",
     "text": [
      "Enter the age is::62\n",
      "Enter the salary is::2000\n",
      "Your salary is:: 3000\n"
     ]
    }
   ],
   "source": [
    "#Control Statement\n",
    "#Nested if statememt\n",
    "age=int(input(\"Enter the age is::\"))\n",
    "if(age>60):\n",
    "    salary=int(input(\"Enter the salary is::\"))\n",
    "    if(salary>=2000):\n",
    "        bns=salary+1000;\n",
    "        print(\"Your salary is::\",bns)\n",
    "    else:\n",
    "        bns=salary+2000;\n",
    "        print(\"Your salary is::\",bns)\n",
    "else:\n",
    "    print(\"Your age is low..\")"
   ]
  },
  {
   "cell_type": "code",
   "execution_count": 8,
   "id": "fd63d305",
   "metadata": {},
   "outputs": [
    {
     "name": "stdout",
     "output_type": "stream",
     "text": [
      "I value is:: 2\n",
      "I value is:: 4\n",
      "I value is:: 6\n",
      "I value is:: 8\n"
     ]
    }
   ],
   "source": [
    "#Looping\n",
    "\n",
    "for i in range(2,10,2):\n",
    "    print(\"I value is::\",i)"
   ]
  },
  {
   "cell_type": "code",
   "execution_count": 9,
   "id": "d2ec72c3",
   "metadata": {},
   "outputs": [
    {
     "name": "stdout",
     "output_type": "stream",
     "text": [
      "I value is:: 0 J value is:: 0\n",
      "I value is:: 0 J value is:: 1\n",
      "I value is:: 0 J value is:: 2\n",
      "I value is:: 1 J value is:: 0\n",
      "I value is:: 1 J value is:: 1\n",
      "I value is:: 1 J value is:: 2\n",
      "I value is:: 2 J value is:: 0\n",
      "I value is:: 2 J value is:: 1\n",
      "I value is:: 2 J value is:: 2\n"
     ]
    }
   ],
   "source": [
    "#Nested for loop\n",
    "\n",
    "for i in range(3):\n",
    "    for j in range(3):\n",
    "        print(\"I value is::\",i,\"J value is::\",j)"
   ]
  },
  {
   "cell_type": "code",
   "execution_count": 1,
   "id": "ef932e29",
   "metadata": {},
   "outputs": [
    {
     "name": "stdout",
     "output_type": "stream",
     "text": [
      "*****\n",
      "*****\n",
      "*****\n",
      "*****\n",
      "*****\n"
     ]
    }
   ],
   "source": [
    "#Pattern Programs\n",
    "for x in range(1,6):\n",
    "    for y in range(1,6):\n",
    "        print(\"*\",end=\"\")\n",
    "    print()"
   ]
  },
  {
   "cell_type": "code",
   "execution_count": 2,
   "id": "93003060",
   "metadata": {},
   "outputs": [
    {
     "name": "stdout",
     "output_type": "stream",
     "text": [
      "11111\n",
      "22222\n",
      "33333\n",
      "44444\n",
      "55555\n"
     ]
    }
   ],
   "source": [
    "for x in range(1,6):\n",
    "    for y in range(1,6):\n",
    "        print(x,end=\"\")\n",
    "    print()"
   ]
  },
  {
   "cell_type": "code",
   "execution_count": 3,
   "id": "c53af80e",
   "metadata": {},
   "outputs": [
    {
     "name": "stdout",
     "output_type": "stream",
     "text": [
      "12345\n",
      "12345\n",
      "12345\n",
      "12345\n",
      "12345\n"
     ]
    }
   ],
   "source": [
    "for x in range(1,6):\n",
    "    for y in range(1,6):\n",
    "        print(y,end=\"\")\n",
    "    print()"
   ]
  },
  {
   "cell_type": "code",
   "execution_count": 4,
   "id": "bb3acba4",
   "metadata": {},
   "outputs": [
    {
     "name": "stdout",
     "output_type": "stream",
     "text": [
      "Enter the n value is::5\n",
      "I value is:: 0\n",
      "I value is:: 1\n",
      "I value is:: 2\n",
      "I value is:: 3\n",
      "I value is:: 4\n",
      "I value is:: 5\n"
     ]
    }
   ],
   "source": [
    "n=int(input(\"Enter the n value is::\"))\n",
    "i=0\n",
    "while(i<=n):\n",
    "    print(\"I value is::\",i)\n",
    "    i=i+1"
   ]
  },
  {
   "cell_type": "code",
   "execution_count": 7,
   "id": "a7cb2f99",
   "metadata": {},
   "outputs": [
    {
     "name": "stdout",
     "output_type": "stream",
     "text": [
      "I value after the break... 0\n",
      "I value after the break... 1\n",
      "I value after the break... 2\n",
      "I value after the break... 4\n"
     ]
    }
   ],
   "source": [
    "for i in range(5):\n",
    "    if i==3:\n",
    "        #break\n",
    "        continue\n",
    "    print(\"I value after the break...\",i)"
   ]
  },
  {
   "cell_type": "code",
   "execution_count": null,
   "id": "4799e4fb",
   "metadata": {},
   "outputs": [],
   "source": [
    "#Function\n",
    "#A function is divided into small programs\n",
    "#A function is performed an specific action\n",
    "#using as keyword as def\n",
    "#default parameter\n",
    "#pass statement\n",
    "#Param statement"
   ]
  },
  {
   "cell_type": "code",
   "execution_count": 8,
   "id": "7e125e12",
   "metadata": {},
   "outputs": [
    {
     "name": "stdout",
     "output_type": "stream",
     "text": [
      "This is Sample function\n"
     ]
    }
   ],
   "source": [
    "def Sample():\n",
    "    print(\"This is Sample function\")\n",
    "Sample()"
   ]
  },
  {
   "cell_type": "code",
   "execution_count": 13,
   "id": "3b6ac970",
   "metadata": {},
   "outputs": [
    {
     "name": "stdout",
     "output_type": "stream",
     "text": [
      "Enter the pid is::100\n",
      "Enter the pname is::apple\n",
      "Your value is:: 100 apple\n",
      "Your Category value is:: 2001 mobile\n"
     ]
    }
   ],
   "source": [
    "def Product():\n",
    "    pid=int(input(\"Enter the pid is::\"))\n",
    "    pname=input(\"Enter the pname is::\")\n",
    "    print(\"Your value is::\",pid,pname)\n",
    "def Category(cid,cname):\n",
    "    print(\"Your Category value is::\",cid,cname)\n",
    "def emptyfunction():\n",
    "    pass\n",
    "Product()\n",
    "Category(2001,\"mobile\")\n"
   ]
  },
  {
   "cell_type": "code",
   "execution_count": 14,
   "id": "4853991e",
   "metadata": {},
   "outputs": [
    {
     "name": "stdout",
     "output_type": "stream",
     "text": [
      "Recursion Example\n",
      "K value:: 3\n",
      "K value:: 2\n",
      "K value:: 1\n",
      "Check:: 0\n",
      "If statement:: 1\n",
      "Check:: 1\n",
      "If statement:: 3\n",
      "Check:: 2\n",
      "If statement:: 6\n"
     ]
    },
    {
     "data": {
      "text/plain": [
       "6"
      ]
     },
     "execution_count": 14,
     "metadata": {},
     "output_type": "execute_result"
    }
   ],
   "source": [
    "#Function Recursion\n",
    "def fun1(k):\n",
    "    if(k>0):\n",
    "        print(\"K value::\",k)\n",
    "        result=k+fun1(k-1)\n",
    "        print(\"Check::\",k-1)\n",
    "        print(\"If statement::\",result)\n",
    "    else:\n",
    "        result=0\n",
    "    return result\n",
    "print(\"Recursion Example\")\n",
    "fun1(3)"
   ]
  },
  {
   "cell_type": "code",
   "execution_count": 15,
   "id": "6d431823",
   "metadata": {},
   "outputs": [
    {
     "name": "stdout",
     "output_type": "stream",
     "text": [
      "[10, 20, 30, 40]\n",
      "[100, 400, 900, 1600]\n"
     ]
    }
   ],
   "source": [
    "#Pass by value and pass by reference\n",
    "def product(items):\n",
    "    products=[]\n",
    "    print(items)\n",
    "    for i in items:\n",
    "        products.append(i**2)\n",
    "    print(products)\n",
    "my1=[10,20,30,40]\n",
    "product(my1)"
   ]
  },
  {
   "cell_type": "code",
   "execution_count": 16,
   "id": "be5c1204",
   "metadata": {},
   "outputs": [
    {
     "name": "stdout",
     "output_type": "stream",
     "text": [
      "Your value is:: azar vsb\n"
     ]
    }
   ],
   "source": [
    "#default value\n",
    "\n",
    "def display(studentname,collegename=\"vsb\"):\n",
    "    print(\"Your value is::\",studentname,collegename)\n",
    "display(\"azar\")"
   ]
  },
  {
   "cell_type": "code",
   "execution_count": null,
   "id": "eddc31d5",
   "metadata": {},
   "outputs": [],
   "source": [
    "#Function Lambda\n",
    "#A lambda function is a small anonymous function\n",
    "#A lambda function can take any number of arguments but can only have one expression\n",
    "#lambda arguments:expression"
   ]
  },
  {
   "cell_type": "code",
   "execution_count": 2,
   "id": "91ce779b",
   "metadata": {},
   "outputs": [
    {
     "name": "stdout",
     "output_type": "stream",
     "text": [
      "15\n",
      "30\n"
     ]
    }
   ],
   "source": [
    "x=lambda a:a+10\n",
    "print(x(5))\n",
    "x=lambda a,b:a*b\n",
    "print(x(5,6))"
   ]
  },
  {
   "cell_type": "code",
   "execution_count": null,
   "id": "f28303d2",
   "metadata": {},
   "outputs": [],
   "source": [
    "#String Opeartions in Python\n",
    "#Python has a set of built in methods that you can use on String\n",
    "# capitalize()\n",
    "# casefold()\n",
    "# isupper()\n",
    "# islower()"
   ]
  },
  {
   "cell_type": "code",
   "execution_count": 6,
   "id": "01e1295a",
   "metadata": {},
   "outputs": [
    {
     "name": "stdout",
     "output_type": "stream",
     "text": [
      "Welcome\n",
      "True\n",
      "False\n",
      "WELCOME\n"
     ]
    }
   ],
   "source": [
    "str1=\"welcome\"\n",
    "print(str1.capitalize())\n",
    "print(str1.islower())\n",
    "print(str1.isupper())\n",
    "print(str1.swapcase())"
   ]
  },
  {
   "cell_type": "code",
   "execution_count": 7,
   "id": "197d4ba2",
   "metadata": {},
   "outputs": [
    {
     "name": "stdout",
     "output_type": "stream",
     "text": [
      "wel\n"
     ]
    }
   ],
   "source": [
    "print(str1[0:3])"
   ]
  },
  {
   "cell_type": "code",
   "execution_count": 8,
   "id": "4521aca8",
   "metadata": {},
   "outputs": [
    {
     "name": "stdout",
     "output_type": "stream",
     "text": [
      "om\n"
     ]
    }
   ],
   "source": [
    "print(str1[-3:-1])"
   ]
  },
  {
   "cell_type": "code",
   "execution_count": 9,
   "id": "9bc2cc12",
   "metadata": {},
   "outputs": [
    {
     "name": "stdout",
     "output_type": "stream",
     "text": [
      "wloe\n"
     ]
    }
   ],
   "source": [
    "print(str1[::2])"
   ]
  },
  {
   "cell_type": "code",
   "execution_count": null,
   "id": "3d40b7e7",
   "metadata": {},
   "outputs": [],
   "source": [
    "#String Operators\n",
    "# +,*,[],[:],in,not,in,%"
   ]
  },
  {
   "cell_type": "code",
   "execution_count": 10,
   "id": "fc4fc907",
   "metadata": {},
   "outputs": [
    {
     "data": {
      "text/plain": [
       "'welcome'"
      ]
     },
     "execution_count": 10,
     "metadata": {},
     "output_type": "execute_result"
    }
   ],
   "source": [
    "str1"
   ]
  },
  {
   "cell_type": "code",
   "execution_count": 12,
   "id": "63ca6e8c",
   "metadata": {},
   "outputs": [
    {
     "name": "stdout",
     "output_type": "stream",
     "text": [
      "True\n"
     ]
    }
   ],
   "source": [
    "print('w' in str1)"
   ]
  },
  {
   "cell_type": "code",
   "execution_count": 14,
   "id": "c86f5a25",
   "metadata": {},
   "outputs": [
    {
     "name": "stdout",
     "output_type": "stream",
     "text": [
      "True\n"
     ]
    }
   ],
   "source": [
    "print('a' not in str1)"
   ]
  },
  {
   "cell_type": "code",
   "execution_count": 16,
   "id": "0c663bcd",
   "metadata": {},
   "outputs": [
    {
     "name": "stdout",
     "output_type": "stream",
     "text": [
      "Its is an Integer value is::%d\n",
      "It is an float value is::%f\n"
     ]
    }
   ],
   "source": [
    "#format()method\n",
    "Integer=10\n",
    "float=1.2\n",
    "String=\"azar\"\n",
    "print(\"Its is an Integer value is::%d\")\n",
    "print(\"It is an float value is::%f\")"
   ]
  },
  {
   "cell_type": "code",
   "execution_count": 21,
   "id": "155a0066",
   "metadata": {},
   "outputs": [
    {
     "name": "stdout",
     "output_type": "stream",
     "text": [
      "True\n",
      "True\n"
     ]
    }
   ],
   "source": [
    "print(str1.startswith('w'))\n",
    "print(str1.endswith('e'))"
   ]
  },
  {
   "cell_type": "code",
   "execution_count": 22,
   "id": "e1d1d926",
   "metadata": {},
   "outputs": [
    {
     "name": "stdout",
     "output_type": "stream",
     "text": [
      "True\n"
     ]
    }
   ],
   "source": [
    "print(str1.isalnum())"
   ]
  },
  {
   "cell_type": "code",
   "execution_count": 23,
   "id": "311d6509",
   "metadata": {},
   "outputs": [
    {
     "name": "stdout",
     "output_type": "stream",
     "text": [
      "False\n"
     ]
    }
   ],
   "source": [
    "print(str1.isdigit())"
   ]
  },
  {
   "cell_type": "code",
   "execution_count": 24,
   "id": "ff48c018",
   "metadata": {},
   "outputs": [
    {
     "name": "stdout",
     "output_type": "stream",
     "text": [
      "WELCOME\n"
     ]
    }
   ],
   "source": [
    "print(str1.upper())"
   ]
  },
  {
   "cell_type": "code",
   "execution_count": 29,
   "id": "970a5b1e",
   "metadata": {},
   "outputs": [
    {
     "name": "stdout",
     "output_type": "stream",
     "text": [
      " welcome \n",
      "welcome \n",
      " welcome\n",
      "welcome\n"
     ]
    }
   ],
   "source": [
    "#lstrip\n",
    "str1=\" welcome \"\n",
    "print(str1)\n",
    "print(str1.lstrip())\n",
    "print(str1.rstrip())\n",
    "print(str1.strip())"
   ]
  },
  {
   "cell_type": "code",
   "execution_count": 34,
   "id": "c2a115a4",
   "metadata": {},
   "outputs": [
    {
     "name": "stdout",
     "output_type": "stream",
     "text": [
      "This is good batch\n",
      "Thwas is good batch\n"
     ]
    }
   ],
   "source": [
    "str2=\"This is good batch\"\n",
    "#t3=str2.replace('is','was')\n",
    "print(str2)\n",
    "print(str2.replace('is','was',1))"
   ]
  },
  {
   "cell_type": "code",
   "execution_count": 37,
   "id": "bc080bd4",
   "metadata": {},
   "outputs": [
    {
     "name": "stdout",
     "output_type": "stream",
     "text": [
      "['LW ', ' best']\n"
     ]
    }
   ],
   "source": [
    "str1=\"LW is best\"\n",
    "#str2=str1.rsplit()\n",
    "str2=str1.rsplit('is',1)\n",
    "print(str2)"
   ]
  },
  {
   "cell_type": "code",
   "execution_count": null,
   "id": "d915e465",
   "metadata": {},
   "outputs": [],
   "source": [
    "#task\n",
    "# zfill()\n",
    "# swapcase()\n",
    "# splitlines()\n",
    "# rjust()\n",
    "# rfind()\n",
    "# ljust()\n",
    "# partition()"
   ]
  },
  {
   "cell_type": "code",
   "execution_count": null,
   "id": "09646824",
   "metadata": {},
   "outputs": [],
   "source": [
    "#List-DataStructure"
   ]
  }
 ],
 "metadata": {
  "kernelspec": {
   "display_name": "Python 3 (ipykernel)",
   "language": "python",
   "name": "python3"
  },
  "language_info": {
   "codemirror_mode": {
    "name": "ipython",
    "version": 3
   },
   "file_extension": ".py",
   "mimetype": "text/x-python",
   "name": "python",
   "nbconvert_exporter": "python",
   "pygments_lexer": "ipython3",
   "version": "3.10.9"
  }
 },
 "nbformat": 4,
 "nbformat_minor": 5
}
