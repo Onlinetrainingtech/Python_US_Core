{
 "cells": [
  {
   "cell_type": "code",
   "execution_count": 1,
   "id": "504662ec",
   "metadata": {},
   "outputs": [
    {
     "name": "stdout",
     "output_type": "stream",
     "text": [
      "100\n"
     ]
    }
   ],
   "source": [
    "pid=100\n",
    "print(pid)"
   ]
  },
  {
   "cell_type": "code",
   "execution_count": 2,
   "id": "e3c3f6c4",
   "metadata": {},
   "outputs": [
    {
     "name": "stdout",
     "output_type": "stream",
     "text": [
      "Enter the p1 value is::10\n",
      "Enter the p2 value is::10\n",
      "Your result is:: 100\n"
     ]
    }
   ],
   "source": [
    "#Runtime input\n",
    "p1=int(input(\"Enter the p1 value is::\"))\n",
    "p2=int(input(\"Enter the p2 value is::\"))\n",
    "result=p1*p2\n",
    "#print(\"Your value is::\",p1,p2)\n",
    "print(\"Your result is::\",result)"
   ]
  },
  {
   "cell_type": "code",
   "execution_count": 3,
   "id": "16a8b540",
   "metadata": {},
   "outputs": [
    {
     "name": "stdout",
     "output_type": "stream",
     "text": [
      "Enter the age is::10\n",
      "Your age is low..\n"
     ]
    }
   ],
   "source": [
    "#Control Statement\n",
    "#Nested if statememt\n",
    "age=int(input(\"Enter the age is::\"))\n",
    "if(age>60):\n",
    "    salary=int(input(\"Enter the salary is::\"))\n",
    "    if(salary>=2000):\n",
    "        bns=salary+1000;\n",
    "        print(\"Your salary is::\",bns)\n",
    "    else:\n",
    "        bns=salary+2000;\n",
    "        print(\"Your salary is::\",bns)\n",
    "else:\n",
    "    print(\"Your age is low..\")"
   ]
  },
  {
   "cell_type": "code",
   "execution_count": 4,
   "id": "fd63d305",
   "metadata": {},
   "outputs": [
    {
     "name": "stdout",
     "output_type": "stream",
     "text": [
      "I value is:: 2\n",
      "I value is:: 4\n",
      "I value is:: 6\n",
      "I value is:: 8\n"
     ]
    }
   ],
   "source": [
    "#Looping\n",
    "\n",
    "for i in range(2,10,2):\n",
    "    print(\"I value is::\",i)"
   ]
  },
  {
   "cell_type": "code",
   "execution_count": 5,
   "id": "d2ec72c3",
   "metadata": {},
   "outputs": [
    {
     "name": "stdout",
     "output_type": "stream",
     "text": [
      "I value is:: 0 J value is:: 0\n",
      "I value is:: 0 J value is:: 1\n",
      "I value is:: 0 J value is:: 2\n",
      "I value is:: 1 J value is:: 0\n",
      "I value is:: 1 J value is:: 1\n",
      "I value is:: 1 J value is:: 2\n",
      "I value is:: 2 J value is:: 0\n",
      "I value is:: 2 J value is:: 1\n",
      "I value is:: 2 J value is:: 2\n"
     ]
    }
   ],
   "source": [
    "#Nested for loop\n",
    "\n",
    "for i in range(3):\n",
    "    for j in range(3):\n",
    "        print(\"I value is::\",i,\"J value is::\",j)"
   ]
  },
  {
   "cell_type": "code",
   "execution_count": 6,
   "id": "ef932e29",
   "metadata": {},
   "outputs": [
    {
     "name": "stdout",
     "output_type": "stream",
     "text": [
      "*****\n",
      "*****\n",
      "*****\n",
      "*****\n",
      "*****\n"
     ]
    }
   ],
   "source": [
    "#Pattern Programs\n",
    "for x in range(1,6):\n",
    "    for y in range(1,6):\n",
    "        print(\"*\",end=\"\")\n",
    "    print()"
   ]
  },
  {
   "cell_type": "code",
   "execution_count": null,
   "id": "ec583c43",
   "metadata": {},
   "outputs": [],
   "source": []
  },
  {
   "cell_type": "code",
   "execution_count": 7,
   "id": "93003060",
   "metadata": {},
   "outputs": [
    {
     "name": "stdout",
     "output_type": "stream",
     "text": [
      "11111\n",
      "22222\n",
      "33333\n",
      "44444\n",
      "55555\n"
     ]
    }
   ],
   "source": [
    "for x in range(1,6):\n",
    "    for y in range(1,6):\n",
    "        print(x,end=\"\")\n",
    "    print()"
   ]
  },
  {
   "cell_type": "code",
   "execution_count": 8,
   "id": "c53af80e",
   "metadata": {},
   "outputs": [
    {
     "name": "stdout",
     "output_type": "stream",
     "text": [
      "12345\n",
      "12345\n",
      "12345\n",
      "12345\n",
      "12345\n"
     ]
    }
   ],
   "source": [
    "for x in range(1,6):\n",
    "    for y in range(1,6):\n",
    "        print(y,end=\"\")\n",
    "    print()"
   ]
  },
  {
   "cell_type": "code",
   "execution_count": 9,
   "id": "bb3acba4",
   "metadata": {},
   "outputs": [
    {
     "name": "stdout",
     "output_type": "stream",
     "text": [
      "Enter the n value is::10\n",
      "I value is:: 0\n",
      "I value is:: 1\n",
      "I value is:: 2\n",
      "I value is:: 3\n",
      "I value is:: 4\n",
      "I value is:: 5\n",
      "I value is:: 6\n",
      "I value is:: 7\n",
      "I value is:: 8\n",
      "I value is:: 9\n",
      "I value is:: 10\n"
     ]
    }
   ],
   "source": [
    "n=int(input(\"Enter the n value is::\"))\n",
    "i=0\n",
    "while(i<=n):\n",
    "    print(\"I value is::\",i)\n",
    "    i=i+1"
   ]
  },
  {
   "cell_type": "code",
   "execution_count": 10,
   "id": "a7cb2f99",
   "metadata": {},
   "outputs": [
    {
     "name": "stdout",
     "output_type": "stream",
     "text": [
      "I value after the break... 0\n",
      "I value after the break... 1\n",
      "I value after the break... 2\n",
      "I value after the break... 4\n"
     ]
    }
   ],
   "source": [
    "for i in range(5):\n",
    "    if i==3:\n",
    "        #break\n",
    "        continue\n",
    "    print(\"I value after the break...\",i)"
   ]
  },
  {
   "cell_type": "code",
   "execution_count": 11,
   "id": "4799e4fb",
   "metadata": {},
   "outputs": [],
   "source": [
    "#Function\n",
    "#A function is divided into small programs\n",
    "#A function is performed an specific action\n",
    "#using as keyword as def\n",
    "#default parameter\n",
    "#pass statement\n",
    "#Param statement"
   ]
  },
  {
   "cell_type": "code",
   "execution_count": 12,
   "id": "7e125e12",
   "metadata": {},
   "outputs": [
    {
     "name": "stdout",
     "output_type": "stream",
     "text": [
      "This is Sample function\n"
     ]
    }
   ],
   "source": [
    "def Sample():\n",
    "    print(\"This is Sample function\")\n",
    "Sample()"
   ]
  },
  {
   "cell_type": "code",
   "execution_count": 13,
   "id": "3b6ac970",
   "metadata": {},
   "outputs": [
    {
     "ename": "KeyboardInterrupt",
     "evalue": "Interrupted by user",
     "output_type": "error",
     "traceback": [
      "\u001b[1;31m---------------------------------------------------------------------------\u001b[0m",
      "\u001b[1;31mKeyboardInterrupt\u001b[0m                         Traceback (most recent call last)",
      "Cell \u001b[1;32mIn[13], line 9\u001b[0m\n\u001b[0;32m      7\u001b[0m \u001b[38;5;28;01mdef\u001b[39;00m \u001b[38;5;21memptyfunction\u001b[39m():\n\u001b[0;32m      8\u001b[0m     \u001b[38;5;28;01mpass\u001b[39;00m\n\u001b[1;32m----> 9\u001b[0m \u001b[43mProduct\u001b[49m\u001b[43m(\u001b[49m\u001b[43m)\u001b[49m\n\u001b[0;32m     10\u001b[0m Category(\u001b[38;5;241m2001\u001b[39m,\u001b[38;5;124m\"\u001b[39m\u001b[38;5;124mmobile\u001b[39m\u001b[38;5;124m\"\u001b[39m)\n",
      "Cell \u001b[1;32mIn[13], line 2\u001b[0m, in \u001b[0;36mProduct\u001b[1;34m()\u001b[0m\n\u001b[0;32m      1\u001b[0m \u001b[38;5;28;01mdef\u001b[39;00m \u001b[38;5;21mProduct\u001b[39m():\n\u001b[1;32m----> 2\u001b[0m     pid\u001b[38;5;241m=\u001b[39m\u001b[38;5;28mint\u001b[39m(\u001b[38;5;28;43minput\u001b[39;49m\u001b[43m(\u001b[49m\u001b[38;5;124;43m\"\u001b[39;49m\u001b[38;5;124;43mEnter the pid is::\u001b[39;49m\u001b[38;5;124;43m\"\u001b[39;49m\u001b[43m)\u001b[49m)\n\u001b[0;32m      3\u001b[0m     pname\u001b[38;5;241m=\u001b[39m\u001b[38;5;28minput\u001b[39m(\u001b[38;5;124m\"\u001b[39m\u001b[38;5;124mEnter the pname is::\u001b[39m\u001b[38;5;124m\"\u001b[39m)\n\u001b[0;32m      4\u001b[0m     \u001b[38;5;28mprint\u001b[39m(\u001b[38;5;124m\"\u001b[39m\u001b[38;5;124mYour value is::\u001b[39m\u001b[38;5;124m\"\u001b[39m,pid,pname)\n",
      "File \u001b[1;32m~\\anaconda3\\lib\\site-packages\\ipykernel\\kernelbase.py:1175\u001b[0m, in \u001b[0;36mKernel.raw_input\u001b[1;34m(self, prompt)\u001b[0m\n\u001b[0;32m   1171\u001b[0m \u001b[38;5;28;01mif\u001b[39;00m \u001b[38;5;129;01mnot\u001b[39;00m \u001b[38;5;28mself\u001b[39m\u001b[38;5;241m.\u001b[39m_allow_stdin:\n\u001b[0;32m   1172\u001b[0m     \u001b[38;5;28;01mraise\u001b[39;00m StdinNotImplementedError(\n\u001b[0;32m   1173\u001b[0m         \u001b[38;5;124m\"\u001b[39m\u001b[38;5;124mraw_input was called, but this frontend does not support input requests.\u001b[39m\u001b[38;5;124m\"\u001b[39m\n\u001b[0;32m   1174\u001b[0m     )\n\u001b[1;32m-> 1175\u001b[0m \u001b[38;5;28;01mreturn\u001b[39;00m \u001b[38;5;28;43mself\u001b[39;49m\u001b[38;5;241;43m.\u001b[39;49m\u001b[43m_input_request\u001b[49m\u001b[43m(\u001b[49m\n\u001b[0;32m   1176\u001b[0m \u001b[43m    \u001b[49m\u001b[38;5;28;43mstr\u001b[39;49m\u001b[43m(\u001b[49m\u001b[43mprompt\u001b[49m\u001b[43m)\u001b[49m\u001b[43m,\u001b[49m\n\u001b[0;32m   1177\u001b[0m \u001b[43m    \u001b[49m\u001b[38;5;28;43mself\u001b[39;49m\u001b[38;5;241;43m.\u001b[39;49m\u001b[43m_parent_ident\u001b[49m\u001b[43m[\u001b[49m\u001b[38;5;124;43m\"\u001b[39;49m\u001b[38;5;124;43mshell\u001b[39;49m\u001b[38;5;124;43m\"\u001b[39;49m\u001b[43m]\u001b[49m\u001b[43m,\u001b[49m\n\u001b[0;32m   1178\u001b[0m \u001b[43m    \u001b[49m\u001b[38;5;28;43mself\u001b[39;49m\u001b[38;5;241;43m.\u001b[39;49m\u001b[43mget_parent\u001b[49m\u001b[43m(\u001b[49m\u001b[38;5;124;43m\"\u001b[39;49m\u001b[38;5;124;43mshell\u001b[39;49m\u001b[38;5;124;43m\"\u001b[39;49m\u001b[43m)\u001b[49m\u001b[43m,\u001b[49m\n\u001b[0;32m   1179\u001b[0m \u001b[43m    \u001b[49m\u001b[43mpassword\u001b[49m\u001b[38;5;241;43m=\u001b[39;49m\u001b[38;5;28;43;01mFalse\u001b[39;49;00m\u001b[43m,\u001b[49m\n\u001b[0;32m   1180\u001b[0m \u001b[43m\u001b[49m\u001b[43m)\u001b[49m\n",
      "File \u001b[1;32m~\\anaconda3\\lib\\site-packages\\ipykernel\\kernelbase.py:1217\u001b[0m, in \u001b[0;36mKernel._input_request\u001b[1;34m(self, prompt, ident, parent, password)\u001b[0m\n\u001b[0;32m   1214\u001b[0m             \u001b[38;5;28;01mbreak\u001b[39;00m\n\u001b[0;32m   1215\u001b[0m \u001b[38;5;28;01mexcept\u001b[39;00m \u001b[38;5;167;01mKeyboardInterrupt\u001b[39;00m:\n\u001b[0;32m   1216\u001b[0m     \u001b[38;5;66;03m# re-raise KeyboardInterrupt, to truncate traceback\u001b[39;00m\n\u001b[1;32m-> 1217\u001b[0m     \u001b[38;5;28;01mraise\u001b[39;00m \u001b[38;5;167;01mKeyboardInterrupt\u001b[39;00m(\u001b[38;5;124m\"\u001b[39m\u001b[38;5;124mInterrupted by user\u001b[39m\u001b[38;5;124m\"\u001b[39m) \u001b[38;5;28;01mfrom\u001b[39;00m \u001b[38;5;28;01mNone\u001b[39;00m\n\u001b[0;32m   1218\u001b[0m \u001b[38;5;28;01mexcept\u001b[39;00m \u001b[38;5;167;01mException\u001b[39;00m:\n\u001b[0;32m   1219\u001b[0m     \u001b[38;5;28mself\u001b[39m\u001b[38;5;241m.\u001b[39mlog\u001b[38;5;241m.\u001b[39mwarning(\u001b[38;5;124m\"\u001b[39m\u001b[38;5;124mInvalid Message:\u001b[39m\u001b[38;5;124m\"\u001b[39m, exc_info\u001b[38;5;241m=\u001b[39m\u001b[38;5;28;01mTrue\u001b[39;00m)\n",
      "\u001b[1;31mKeyboardInterrupt\u001b[0m: Interrupted by user"
     ]
    }
   ],
   "source": [
    "def Product():\n",
    "    pid=int(input(\"Enter the pid is::\"))\n",
    "    pname=input(\"Enter the pname is::\")\n",
    "    print(\"Your value is::\",pid,pname)\n",
    "def Category(cid,cname):\n",
    "    print(\"Your Category value is::\",cid,cname)\n",
    "def emptyfunction():\n",
    "    pass\n",
    "Product()\n",
    "Category(2001,\"mobile\")\n"
   ]
  },
  {
   "cell_type": "code",
   "execution_count": null,
   "id": "4853991e",
   "metadata": {},
   "outputs": [],
   "source": [
    "#Function Recursion\n",
    "def fun1(k):\n",
    "    if(k>0):\n",
    "        print(\"K value::\",k)\n",
    "        result=k+fun1(k-1)\n",
    "        print(\"Check::\",k-1)\n",
    "        print(\"If statement::\",result)\n",
    "    else:\n",
    "        result=0\n",
    "    return result\n",
    "print(\"Recursion Example\")\n",
    "fun1(3)"
   ]
  },
  {
   "cell_type": "code",
   "execution_count": null,
   "id": "6d431823",
   "metadata": {},
   "outputs": [],
   "source": [
    "#Pass by value and pass by reference\n",
    "def product(items):\n",
    "    products=[]\n",
    "    print(items)\n",
    "    for i in items:\n",
    "        products.append(i**2)\n",
    "    print(products)\n",
    "my1=[10,20,30,40]\n",
    "product(my1)"
   ]
  },
  {
   "cell_type": "code",
   "execution_count": null,
   "id": "be5c1204",
   "metadata": {},
   "outputs": [],
   "source": [
    "#default value\n",
    "\n",
    "def display(studentname,collegename=\"vsb\"):\n",
    "    print(\"Your value is::\",studentname,collegename)\n",
    "display(\"azar\")"
   ]
  },
  {
   "cell_type": "code",
   "execution_count": null,
   "id": "eddc31d5",
   "metadata": {},
   "outputs": [],
   "source": [
    "#Function Lambda\n",
    "#A lambda function is a small anonymous function\n",
    "#A lambda function can take any number of arguments but can only have one expression\n",
    "#lambda arguments:expression"
   ]
  },
  {
   "cell_type": "code",
   "execution_count": null,
   "id": "91ce779b",
   "metadata": {},
   "outputs": [],
   "source": [
    "x=lambda a:a+10\n",
    "print(x(5))\n",
    "x=lambda a,b:a*b\n",
    "print(x(5,6))"
   ]
  },
  {
   "cell_type": "code",
   "execution_count": null,
   "id": "f28303d2",
   "metadata": {},
   "outputs": [],
   "source": [
    "#String Opeartions in Python\n",
    "#Python has a set of built in methods that you can use on String\n",
    "# capitalize()\n",
    "# casefold()\n",
    "# isupper()\n",
    "# islower()"
   ]
  },
  {
   "cell_type": "code",
   "execution_count": null,
   "id": "01e1295a",
   "metadata": {},
   "outputs": [],
   "source": [
    "str1=\"welcome\"\n",
    "print(str1.capitalize())\n",
    "print(str1.islower())\n",
    "print(str1.isupper())\n",
    "print(str1.swapcase())"
   ]
  },
  {
   "cell_type": "code",
   "execution_count": null,
   "id": "197d4ba2",
   "metadata": {},
   "outputs": [],
   "source": [
    "print(str1[0:3])"
   ]
  },
  {
   "cell_type": "code",
   "execution_count": null,
   "id": "4521aca8",
   "metadata": {},
   "outputs": [],
   "source": [
    "print(str1[-3:-1])"
   ]
  },
  {
   "cell_type": "code",
   "execution_count": null,
   "id": "9bc2cc12",
   "metadata": {},
   "outputs": [],
   "source": [
    "print(str1[::2])"
   ]
  },
  {
   "cell_type": "code",
   "execution_count": null,
   "id": "3d40b7e7",
   "metadata": {},
   "outputs": [],
   "source": [
    "#String Operators\n",
    "# +,*,[],[:],in,not,in,%"
   ]
  },
  {
   "cell_type": "code",
   "execution_count": null,
   "id": "fc4fc907",
   "metadata": {},
   "outputs": [],
   "source": [
    "str1"
   ]
  },
  {
   "cell_type": "code",
   "execution_count": null,
   "id": "63ca6e8c",
   "metadata": {},
   "outputs": [],
   "source": [
    "print('w' in str1)"
   ]
  },
  {
   "cell_type": "code",
   "execution_count": null,
   "id": "c86f5a25",
   "metadata": {},
   "outputs": [],
   "source": [
    "print('a' not in str1)"
   ]
  },
  {
   "cell_type": "code",
   "execution_count": null,
   "id": "0c663bcd",
   "metadata": {},
   "outputs": [],
   "source": [
    "#format()method\n",
    "Integer=10\n",
    "float=1.2\n",
    "String=\"azar\"\n",
    "print(\"Its is an Integer value is::%d\")\n",
    "print(\"It is an float value is::%f\")"
   ]
  },
  {
   "cell_type": "code",
   "execution_count": null,
   "id": "155a0066",
   "metadata": {},
   "outputs": [],
   "source": [
    "print(str1.startswith('w'))\n",
    "print(str1.endswith('e'))"
   ]
  },
  {
   "cell_type": "code",
   "execution_count": null,
   "id": "e1d1d926",
   "metadata": {},
   "outputs": [],
   "source": [
    "print(str1.isalnum())"
   ]
  },
  {
   "cell_type": "code",
   "execution_count": null,
   "id": "311d6509",
   "metadata": {},
   "outputs": [],
   "source": [
    "print(str1.isdigit())"
   ]
  },
  {
   "cell_type": "code",
   "execution_count": null,
   "id": "ff48c018",
   "metadata": {},
   "outputs": [],
   "source": [
    "print(str1.upper())"
   ]
  },
  {
   "cell_type": "code",
   "execution_count": null,
   "id": "970a5b1e",
   "metadata": {},
   "outputs": [],
   "source": [
    "#lstrip\n",
    "str1=\" welcome \"\n",
    "print(str1)\n",
    "print(str1.lstrip())\n",
    "print(str1.rstrip())\n",
    "print(str1.strip())"
   ]
  },
  {
   "cell_type": "code",
   "execution_count": null,
   "id": "c2a115a4",
   "metadata": {},
   "outputs": [],
   "source": [
    "str2=\"This is good batch\"\n",
    "#t3=str2.replace('is','was')\n",
    "print(str2)\n",
    "print(str2.replace('is','was',1))"
   ]
  },
  {
   "cell_type": "code",
   "execution_count": null,
   "id": "bc080bd4",
   "metadata": {},
   "outputs": [],
   "source": [
    "str1=\"LW is best\"\n",
    "#str2=str1.rsplit()\n",
    "str2=str1.rsplit('is',1)\n",
    "print(str2)"
   ]
  },
  {
   "cell_type": "code",
   "execution_count": null,
   "id": "d915e465",
   "metadata": {},
   "outputs": [],
   "source": [
    "#task\n",
    "# zfill()\n",
    "# swapcase()\n",
    "# splitlines()\n",
    "# rjust()\n",
    "# rfind()\n",
    "# ljust()\n",
    "# partition()"
   ]
  },
  {
   "cell_type": "code",
   "execution_count": null,
   "id": "09646824",
   "metadata": {},
   "outputs": [],
   "source": [
    "#List-DataStructure\n",
    "#List are used to store multiple items in a single variable."
   ]
  },
  {
   "cell_type": "code",
   "execution_count": null,
   "id": "46f264a5",
   "metadata": {},
   "outputs": [],
   "source": [
    "list1=[10,20,30,40]\n",
    "print(list1)\n",
    "print(type(list1))\n",
    "list2=[10,2.5,\"Azar\",'a']\n",
    "print(list2)"
   ]
  },
  {
   "cell_type": "code",
   "execution_count": null,
   "id": "ec6aa6ae",
   "metadata": {},
   "outputs": [],
   "source": [
    "list1"
   ]
  },
  {
   "cell_type": "code",
   "execution_count": null,
   "id": "249c1863",
   "metadata": {},
   "outputs": [],
   "source": [
    "print(list1[0])\n",
    "print(list1[0:3])\n",
    "print(list1[-3:-1])\n",
    "print(list1[::2])"
   ]
  },
  {
   "cell_type": "code",
   "execution_count": null,
   "id": "c842644d",
   "metadata": {},
   "outputs": [],
   "source": [
    "#Allow duplicate value\n",
    "name=[\"azar\",\"azar\",\"mohamed\",\"mohan\"]\n",
    "print(name)\n",
    "print(type(name))"
   ]
  },
  {
   "cell_type": "code",
   "execution_count": null,
   "id": "01da56c3",
   "metadata": {},
   "outputs": [],
   "source": [
    "#list()constructor\n",
    "list2=list((\"a1\",\"a2\",\"a3\",\"a4\"))\n",
    "print(list2)\n",
    "print(type(list2))"
   ]
  },
  {
   "cell_type": "code",
   "execution_count": null,
   "id": "ef0e3d00",
   "metadata": {},
   "outputs": [],
   "source": [
    "name"
   ]
  },
  {
   "cell_type": "code",
   "execution_count": null,
   "id": "1f1ecdff",
   "metadata": {},
   "outputs": [],
   "source": [
    "name[0]=\"raja\"\n",
    "print(name)"
   ]
  },
  {
   "cell_type": "code",
   "execution_count": null,
   "id": "18b710d4",
   "metadata": {},
   "outputs": [],
   "source": [
    "if \"azar\" in name:\n",
    "    print(\"Yes data is found\")"
   ]
  },
  {
   "cell_type": "code",
   "execution_count": null,
   "id": "ac2b75ff",
   "metadata": {},
   "outputs": [],
   "source": [
    "if \"azar1\" in name:\n",
    "    print(\"yes data is found\")\n",
    "else:\n",
    "    print(\"No data is not found\")"
   ]
  },
  {
   "cell_type": "code",
   "execution_count": null,
   "id": "88929fd9",
   "metadata": {},
   "outputs": [],
   "source": [
    "name.insert(0,\"a1\")\n",
    "print(name)"
   ]
  },
  {
   "cell_type": "code",
   "execution_count": null,
   "id": "52bfe335",
   "metadata": {},
   "outputs": [],
   "source": [
    "name.append(\"b1\")\n",
    "print(name)"
   ]
  },
  {
   "cell_type": "code",
   "execution_count": null,
   "id": "0ed08bc0",
   "metadata": {},
   "outputs": [],
   "source": [
    "list1.extend(name)\n",
    "print(list1)"
   ]
  },
  {
   "cell_type": "code",
   "execution_count": null,
   "id": "f0fbeb33",
   "metadata": {},
   "outputs": [],
   "source": [
    "list1"
   ]
  },
  {
   "cell_type": "code",
   "execution_count": null,
   "id": "fdeca3f6",
   "metadata": {},
   "outputs": [],
   "source": [
    "list1.remove('b1')\n",
    "print(list1)"
   ]
  },
  {
   "cell_type": "code",
   "execution_count": null,
   "id": "dd74687f",
   "metadata": {},
   "outputs": [],
   "source": [
    "list1.pop()\n",
    "print(list1)"
   ]
  },
  {
   "cell_type": "code",
   "execution_count": null,
   "id": "4fc04406",
   "metadata": {},
   "outputs": [],
   "source": [
    "list1.pop(1)\n",
    "print(list1)"
   ]
  },
  {
   "cell_type": "code",
   "execution_count": null,
   "id": "43c58080",
   "metadata": {},
   "outputs": [],
   "source": [
    "del list1[0]\n",
    "list1"
   ]
  },
  {
   "cell_type": "code",
   "execution_count": null,
   "id": "bf073aad",
   "metadata": {},
   "outputs": [],
   "source": [
    "list2.clear()"
   ]
  },
  {
   "cell_type": "code",
   "execution_count": null,
   "id": "a376edc7",
   "metadata": {},
   "outputs": [],
   "source": [
    "list2"
   ]
  },
  {
   "cell_type": "code",
   "execution_count": null,
   "id": "5d61da0e",
   "metadata": {},
   "outputs": [],
   "source": [
    "list1"
   ]
  },
  {
   "cell_type": "code",
   "execution_count": null,
   "id": "939e922b",
   "metadata": {},
   "outputs": [],
   "source": [
    "for x in list1:\n",
    "    print(x)"
   ]
  },
  {
   "cell_type": "code",
   "execution_count": null,
   "id": "6ac94fc1",
   "metadata": {},
   "outputs": [],
   "source": [
    "for i in range(len(list1)):\n",
    "    print(i)"
   ]
  },
  {
   "cell_type": "code",
   "execution_count": null,
   "id": "3c5d06f4",
   "metadata": {},
   "outputs": [],
   "source": [
    "i=0\n",
    "while(i<len(list1)):\n",
    "    print(list[i])\n",
    "    i=i+1"
   ]
  },
  {
   "cell_type": "code",
   "execution_count": null,
   "id": "67ed5de3",
   "metadata": {},
   "outputs": [],
   "source": [
    "list2"
   ]
  },
  {
   "cell_type": "code",
   "execution_count": null,
   "id": "1cb19cdf",
   "metadata": {},
   "outputs": [],
   "source": [
    "list4=[\"a1\",\"a2\",\"a3\",\"a4\"]"
   ]
  },
  {
   "cell_type": "code",
   "execution_count": null,
   "id": "790eb767",
   "metadata": {},
   "outputs": [],
   "source": [
    "list2=[]\n",
    "for i in list4:\n",
    "    if \"a2\" in i:\n",
    "        list2.append(i)\n",
    "print(list2)"
   ]
  },
  {
   "cell_type": "code",
   "execution_count": null,
   "id": "2111159e",
   "metadata": {},
   "outputs": [],
   "source": [
    "list1"
   ]
  },
  {
   "cell_type": "code",
   "execution_count": null,
   "id": "e01aace1",
   "metadata": {},
   "outputs": [],
   "source": [
    "list1.reverse()\n",
    "list1"
   ]
  },
  {
   "cell_type": "code",
   "execution_count": null,
   "id": "630d9267",
   "metadata": {},
   "outputs": [],
   "source": [
    "my1=list1.copy()\n",
    "print(my1)"
   ]
  },
  {
   "cell_type": "code",
   "execution_count": null,
   "id": "7bedfb50",
   "metadata": {},
   "outputs": [],
   "source": [
    "#Tuples\n",
    "#Tuples are used to store multiple items in a single variable."
   ]
  },
  {
   "cell_type": "code",
   "execution_count": null,
   "id": "4210871e",
   "metadata": {},
   "outputs": [],
   "source": [
    "tup1=(10,20,30,40)\n",
    "print(tup1)\n",
    "print(type(tup1))"
   ]
  },
  {
   "cell_type": "code",
   "execution_count": null,
   "id": "c1741499",
   "metadata": {},
   "outputs": [],
   "source": [
    "#tup1[0]=100"
   ]
  },
  {
   "cell_type": "code",
   "execution_count": null,
   "id": "fa4dc2a6",
   "metadata": {},
   "outputs": [],
   "source": [
    "tup2=(\"a1\",\"a1\",\"a2\",\"a3\")\n",
    "print(tup2)"
   ]
  },
  {
   "cell_type": "code",
   "execution_count": null,
   "id": "5ac958da",
   "metadata": {},
   "outputs": [],
   "source": [
    "print(len(tup2))"
   ]
  },
  {
   "cell_type": "code",
   "execution_count": null,
   "id": "93d0940a",
   "metadata": {},
   "outputs": [],
   "source": [
    "tup3=(\"a1\",34,True,400)\n",
    "print(tup3)\n",
    "print(type(tup3))"
   ]
  },
  {
   "cell_type": "code",
   "execution_count": null,
   "id": "7e2987ee",
   "metadata": {},
   "outputs": [],
   "source": [
    "#Tuple Constructor\n",
    "t1=tuple((\"a1\",\"a2\",\"a3\"))\n",
    "print(t1)\n",
    "print(type(t1))"
   ]
  },
  {
   "cell_type": "code",
   "execution_count": null,
   "id": "ba9d7110",
   "metadata": {},
   "outputs": [],
   "source": [
    "#Access tuple items\n",
    "print(tup1)\n",
    "print(tup1[0])\n",
    "print(tup1[0:3])\n",
    "print(tup1[-3:-1])"
   ]
  },
  {
   "cell_type": "code",
   "execution_count": null,
   "id": "d8effe68",
   "metadata": {},
   "outputs": [],
   "source": [
    "if 11 in tup1:\n",
    "    print(\"Yes\",\"Its Found\")\n",
    "else:\n",
    "    print(\"No\",\"Its Not Found\")"
   ]
  },
  {
   "cell_type": "code",
   "execution_count": null,
   "id": "29980d9c",
   "metadata": {},
   "outputs": [],
   "source": [
    "x=(\"a1\",\"a2\",\"a3\")\n",
    "y=list(x)\n",
    "y[1]=\"b1\"\n",
    "x=tuple(y)\n",
    "print(x)\n",
    "print(type(x))"
   ]
  },
  {
   "cell_type": "code",
   "execution_count": null,
   "id": "0f4a51bc",
   "metadata": {},
   "outputs": [],
   "source": [
    "#Add items in the tuples\n",
    "y=list(x)\n",
    "y.append(\"b2\")\n",
    "x=tuple(y)\n",
    "x"
   ]
  },
  {
   "cell_type": "code",
   "execution_count": null,
   "id": "37c2bae0",
   "metadata": {},
   "outputs": [],
   "source": [
    "#Remove the value in tuples\n",
    "y=list(x)\n",
    "y.remove(\"a1\")\n",
    "x=tuple(y)"
   ]
  },
  {
   "cell_type": "code",
   "execution_count": null,
   "id": "7a4334c3",
   "metadata": {},
   "outputs": [],
   "source": [
    "x"
   ]
  },
  {
   "cell_type": "code",
   "execution_count": null,
   "id": "a52801ce",
   "metadata": {},
   "outputs": [],
   "source": [
    "del x"
   ]
  },
  {
   "cell_type": "code",
   "execution_count": null,
   "id": "69e4b868",
   "metadata": {},
   "outputs": [],
   "source": [
    "#Unpacking a Tuple\n",
    "#When we create a tuple we normally assign values to it.This is called packing a tuple"
   ]
  },
  {
   "cell_type": "code",
   "execution_count": null,
   "id": "c6e8bc3d",
   "metadata": {},
   "outputs": [],
   "source": [
    "tup1"
   ]
  },
  {
   "cell_type": "code",
   "execution_count": null,
   "id": "4f19f50b",
   "metadata": {},
   "outputs": [],
   "source": [
    "(a1,a2,a3,a4)=tup1\n",
    "print(a1)\n",
    "print(a2)\n",
    "print(a3)\n",
    "print(a4)"
   ]
  },
  {
   "cell_type": "code",
   "execution_count": null,
   "id": "c98e4ab2",
   "metadata": {},
   "outputs": [],
   "source": [
    "(a1,a2,*a3)=tup1\n",
    "print(a1)\n",
    "print(a2)\n",
    "print(a3)"
   ]
  },
  {
   "cell_type": "code",
   "execution_count": null,
   "id": "48005429",
   "metadata": {},
   "outputs": [],
   "source": [
    "#Looping in the tuples\n",
    "tup1"
   ]
  },
  {
   "cell_type": "code",
   "execution_count": null,
   "id": "5c2ea8d9",
   "metadata": {},
   "outputs": [],
   "source": [
    "for x in tup1:\n",
    "    print(x)"
   ]
  },
  {
   "cell_type": "code",
   "execution_count": null,
   "id": "69e60310",
   "metadata": {},
   "outputs": [],
   "source": [
    "for i in range(len(tup1)):\n",
    "    print(tup1[i])"
   ]
  },
  {
   "cell_type": "code",
   "execution_count": null,
   "id": "16662b18",
   "metadata": {},
   "outputs": [],
   "source": [
    "print(tup1)\n",
    "print(tup2)\n",
    "print(tup1+tup2)\n",
    "print(tup1*2)"
   ]
  },
  {
   "cell_type": "code",
   "execution_count": null,
   "id": "b2eb354e",
   "metadata": {},
   "outputs": [],
   "source": [
    "#Tuples methods\n",
    "#Count()\n",
    "#index()\n",
    "# x=tup1.count(10)\n",
    "# print(x)\n",
    "x=tup1.index(10)\n",
    "print(x)"
   ]
  },
  {
   "cell_type": "code",
   "execution_count": null,
   "id": "6a1aa9d6",
   "metadata": {},
   "outputs": [],
   "source": [
    "#Dictionary\n",
    "#Dictionary are used to store data values in key-value pairs.\n",
    "#A dictionary is a collection which is ordered and do not all duplicates"
   ]
  },
  {
   "cell_type": "code",
   "execution_count": null,
   "id": "64df6d0f",
   "metadata": {},
   "outputs": [],
   "source": [
    "dict1={101:\"azar\",102:\"mohan\",103:\"sai\"}\n",
    "print(dict1)"
   ]
  },
  {
   "cell_type": "code",
   "execution_count": null,
   "id": "8acdab4b",
   "metadata": {},
   "outputs": [],
   "source": [
    "dict1[101]"
   ]
  },
  {
   "cell_type": "code",
   "execution_count": null,
   "id": "6947bdd2",
   "metadata": {},
   "outputs": [],
   "source": [
    "#Duplicates not allowed\n",
    "dict2={101:\"a1\",101:\"a2\"}\n",
    "print(dict2)"
   ]
  },
  {
   "cell_type": "code",
   "execution_count": null,
   "id": "eb214b02",
   "metadata": {},
   "outputs": [],
   "source": [
    "print(len(dict2))\n",
    "print(len(dict1))\n",
    "print(type(dict1))"
   ]
  },
  {
   "cell_type": "code",
   "execution_count": null,
   "id": "f299ddb7",
   "metadata": {},
   "outputs": [],
   "source": [
    "#dict()Constructor\n",
    "t1=dict(name=\"azar\",age=33,city=\"krr\")\n",
    "print(t1)"
   ]
  },
  {
   "cell_type": "code",
   "execution_count": null,
   "id": "f0e51b10",
   "metadata": {},
   "outputs": [],
   "source": [
    "dict1"
   ]
  },
  {
   "cell_type": "code",
   "execution_count": null,
   "id": "f721f4a4",
   "metadata": {},
   "outputs": [],
   "source": [
    "x=dict1.get(101)\n",
    "print(x)"
   ]
  },
  {
   "cell_type": "code",
   "execution_count": null,
   "id": "5ba3366e",
   "metadata": {},
   "outputs": [],
   "source": [
    "dict1.keys()"
   ]
  },
  {
   "cell_type": "code",
   "execution_count": null,
   "id": "2f69f423",
   "metadata": {},
   "outputs": [],
   "source": [
    "dict1.items()"
   ]
  },
  {
   "cell_type": "code",
   "execution_count": null,
   "id": "18341ec3",
   "metadata": {},
   "outputs": [],
   "source": [
    "dict1.values()"
   ]
  },
  {
   "cell_type": "code",
   "execution_count": null,
   "id": "8960dd99",
   "metadata": {},
   "outputs": [],
   "source": [
    "dict1\n",
    "if 101 in dict1:\n",
    "    print(\"Yes\",\"found\")\n",
    "else:\n",
    "    print(\"No\",\"Not Found\")"
   ]
  },
  {
   "cell_type": "code",
   "execution_count": null,
   "id": "7ba9d47b",
   "metadata": {},
   "outputs": [],
   "source": [
    "dict1"
   ]
  },
  {
   "cell_type": "code",
   "execution_count": null,
   "id": "a9ef53f0",
   "metadata": {},
   "outputs": [],
   "source": [
    "dict1[101]=\"azar1\"\n",
    "dict1"
   ]
  },
  {
   "cell_type": "code",
   "execution_count": null,
   "id": "c5ecc3b7",
   "metadata": {},
   "outputs": [],
   "source": [
    "dict1.update({104:\"a1\"})\n",
    "print(dict1)"
   ]
  },
  {
   "cell_type": "code",
   "execution_count": null,
   "id": "ca7ba32c",
   "metadata": {},
   "outputs": [],
   "source": [
    "#Removing the items\n",
    "dict1"
   ]
  },
  {
   "cell_type": "code",
   "execution_count": null,
   "id": "ecee9a67",
   "metadata": {},
   "outputs": [],
   "source": [
    "dict1.pop(101)\n",
    "\n",
    "print(dict1)"
   ]
  },
  {
   "cell_type": "code",
   "execution_count": null,
   "id": "b82d96ae",
   "metadata": {},
   "outputs": [],
   "source": [
    "dict1.popitem()\n",
    "print(dict1)"
   ]
  },
  {
   "cell_type": "code",
   "execution_count": null,
   "id": "b22f5632",
   "metadata": {},
   "outputs": [],
   "source": [
    "#del dict1\n",
    "#clear dict1"
   ]
  },
  {
   "cell_type": "code",
   "execution_count": null,
   "id": "839dc7c7",
   "metadata": {},
   "outputs": [],
   "source": [
    "for x in dict1:\n",
    "    print(x)"
   ]
  },
  {
   "cell_type": "code",
   "execution_count": null,
   "id": "c8ec1772",
   "metadata": {},
   "outputs": [],
   "source": [
    "for x in dict1:\n",
    "    print(dict1[x])"
   ]
  },
  {
   "cell_type": "code",
   "execution_count": null,
   "id": "4bf0098f",
   "metadata": {},
   "outputs": [],
   "source": [
    "for x in dict1.items():\n",
    "    print(x)"
   ]
  },
  {
   "cell_type": "code",
   "execution_count": null,
   "id": "5b0339c5",
   "metadata": {},
   "outputs": [],
   "source": [
    "for x in dict1.keys():\n",
    "    print(x)"
   ]
  },
  {
   "cell_type": "code",
   "execution_count": null,
   "id": "a796db9b",
   "metadata": {},
   "outputs": [],
   "source": [
    "for x,y in dict1.items():\n",
    "    print(x,y)"
   ]
  },
  {
   "cell_type": "code",
   "execution_count": null,
   "id": "72dc5d60",
   "metadata": {},
   "outputs": [],
   "source": [
    "d1=dict1.copy()\n",
    "print(d1)"
   ]
  },
  {
   "cell_type": "code",
   "execution_count": null,
   "id": "8f4afce5",
   "metadata": {},
   "outputs": [],
   "source": [
    "my1={\n",
    "    \"c1\":{\n",
    "    101:\"a1\",\n",
    "    102:\"a2\"\n",
    "    },\n",
    "    \"c2\":{\n",
    "        201:\"b1\",\n",
    "        202:\"b2\"\n",
    "    },\n",
    "}\n",
    "print(my1)\n"
   ]
  },
  {
   "cell_type": "code",
   "execution_count": null,
   "id": "222da3e7",
   "metadata": {},
   "outputs": [],
   "source": [
    "#Access items in Nested dictionaries\n",
    "print(my1[\"c1\"],[101])"
   ]
  },
  {
   "cell_type": "code",
   "execution_count": null,
   "id": "6734ea02",
   "metadata": {},
   "outputs": [],
   "source": [
    "#Dictionaries\n",
    "# clear()\n",
    "# copy()\n",
    "# fromkeys()\n",
    "# get()\n",
    "# items()\n",
    "# keys()\n",
    "# pop()\n",
    "# popitem()\n",
    "# update()\n",
    "# values()\n",
    "# setdefault()"
   ]
  },
  {
   "cell_type": "code",
   "execution_count": null,
   "id": "a2911722",
   "metadata": {},
   "outputs": [],
   "source": [
    "#setdefault() method return the value of the items with the specified key\n",
    "x=dict1.setdefault(201,\"azar\")\n",
    "x"
   ]
  },
  {
   "cell_type": "code",
   "execution_count": null,
   "id": "1d07c768",
   "metadata": {},
   "outputs": [],
   "source": [
    "#Set Concepts"
   ]
  },
  {
   "cell_type": "code",
   "execution_count": null,
   "id": "df79903a",
   "metadata": {},
   "outputs": [],
   "source": [
    "empname={\"azar\",\"mohamed\",\"sheik\"}\n",
    "print(empname)\n",
    "print(type(empname))"
   ]
  },
  {
   "cell_type": "code",
   "execution_count": null,
   "id": "68c6a77d",
   "metadata": {},
   "outputs": [],
   "source": [
    "s1=set()\n",
    "print(s1)\n",
    "print(type(s1))"
   ]
  },
  {
   "cell_type": "code",
   "execution_count": null,
   "id": "db1b10be",
   "metadata": {},
   "outputs": [],
   "source": [
    "#add() and update()\n",
    "studname=set([\"azar\",\"mohamed\",\"azar1\",\"mohamed1\"])\n",
    "print(studname)\n",
    "studname.add(\"azar2\")"
   ]
  },
  {
   "cell_type": "code",
   "execution_count": null,
   "id": "48f2efa9",
   "metadata": {},
   "outputs": [],
   "source": [
    "studname"
   ]
  },
  {
   "cell_type": "code",
   "execution_count": null,
   "id": "9e256c73",
   "metadata": {},
   "outputs": [],
   "source": [
    "studname.update([\"a1\",\"b1\",\"c1\"])\n",
    "print(studname)"
   ]
  },
  {
   "cell_type": "code",
   "execution_count": null,
   "id": "d67e0f06",
   "metadata": {},
   "outputs": [],
   "source": [
    "studname.discard(\"a1\")"
   ]
  },
  {
   "cell_type": "code",
   "execution_count": null,
   "id": "d1a1e4b1",
   "metadata": {},
   "outputs": [],
   "source": [
    "studname"
   ]
  },
  {
   "cell_type": "code",
   "execution_count": null,
   "id": "18c1af14",
   "metadata": {},
   "outputs": [],
   "source": [
    "studname.pop()"
   ]
  },
  {
   "cell_type": "code",
   "execution_count": null,
   "id": "f666fa6a",
   "metadata": {},
   "outputs": [],
   "source": [
    "studname"
   ]
  },
  {
   "cell_type": "code",
   "execution_count": null,
   "id": "40bb3a9f",
   "metadata": {},
   "outputs": [],
   "source": [
    "#Python set operations"
   ]
  },
  {
   "cell_type": "code",
   "execution_count": null,
   "id": "db7ffcb8",
   "metadata": {},
   "outputs": [],
   "source": [
    "#union of set\n",
    "s1={\"a1\",\"b1\",\"c1\"}\n",
    "s2={\"a2\",\"b2\",\"c1\"}\n",
    "print(s1|s2)\n",
    "print(s1.union(s2))"
   ]
  },
  {
   "cell_type": "code",
   "execution_count": null,
   "id": "17341e01",
   "metadata": {},
   "outputs": [],
   "source": [
    "#Intersection of sets"
   ]
  },
  {
   "cell_type": "code",
   "execution_count": null,
   "id": "5a00f02b",
   "metadata": {},
   "outputs": [],
   "source": [
    "s1"
   ]
  },
  {
   "cell_type": "code",
   "execution_count": null,
   "id": "c4ee72eb",
   "metadata": {},
   "outputs": [],
   "source": [
    "s2"
   ]
  },
  {
   "cell_type": "code",
   "execution_count": null,
   "id": "c549844b",
   "metadata": {},
   "outputs": [],
   "source": [
    "print(s1&s2)"
   ]
  },
  {
   "cell_type": "code",
   "execution_count": null,
   "id": "7bf58735",
   "metadata": {},
   "outputs": [],
   "source": [
    "s3={\"a2\",\"a3\",\"c1\"}"
   ]
  },
  {
   "cell_type": "code",
   "execution_count": null,
   "id": "6289cb10",
   "metadata": {},
   "outputs": [],
   "source": [
    "s1.intersection_update(s2,s3)\n",
    "print(s1)"
   ]
  },
  {
   "cell_type": "code",
   "execution_count": null,
   "id": "a4857a29",
   "metadata": {},
   "outputs": [],
   "source": [
    "print(s1-s2)"
   ]
  },
  {
   "cell_type": "code",
   "execution_count": null,
   "id": "c06183c7",
   "metadata": {},
   "outputs": [],
   "source": [
    "s1"
   ]
  },
  {
   "cell_type": "code",
   "execution_count": null,
   "id": "3a4ccca1",
   "metadata": {},
   "outputs": [],
   "source": [
    "s2"
   ]
  },
  {
   "cell_type": "code",
   "execution_count": null,
   "id": "90752547",
   "metadata": {},
   "outputs": [],
   "source": [
    "print(s3.difference(s2))"
   ]
  },
  {
   "cell_type": "code",
   "execution_count": null,
   "id": "7194d623",
   "metadata": {},
   "outputs": [],
   "source": [
    "c=s2.symmetric_difference(s3)\n",
    "print(c)"
   ]
  },
  {
   "cell_type": "code",
   "execution_count": null,
   "id": "a4cca344",
   "metadata": {},
   "outputs": [],
   "source": [
    "#What is Stack?"
   ]
  },
  {
   "cell_type": "code",
   "execution_count": null,
   "id": "33177577",
   "metadata": {},
   "outputs": [],
   "source": [
    "#Methods in Stack\n",
    "# empty()\n",
    "# size()\n",
    "# top()\n",
    "# push(d)\n",
    "# pop()"
   ]
  },
  {
   "cell_type": "code",
   "execution_count": null,
   "id": "82af46e5",
   "metadata": {},
   "outputs": [],
   "source": [
    "#Implementation of List\n",
    "my_stack=[]\n",
    "my_stack.append('x')\n",
    "my_stack.append('y')\n",
    "my_stack.append('z')\n",
    "print(my_stack)"
   ]
  },
  {
   "cell_type": "code",
   "execution_count": null,
   "id": "04419588",
   "metadata": {},
   "outputs": [],
   "source": [
    "print(my_stack.pop())\n",
    "print(my_stack)"
   ]
  },
  {
   "cell_type": "code",
   "execution_count": null,
   "id": "41e363c9",
   "metadata": {},
   "outputs": [],
   "source": [
    "#Implementation of deque\n",
    "from collections import deque \n",
    "my=deque()\n",
    "my.append('a')\n",
    "my.append('b')\n",
    "my.append('c')\n"
   ]
  },
  {
   "cell_type": "code",
   "execution_count": null,
   "id": "68845058",
   "metadata": {},
   "outputs": [],
   "source": [
    "print(my)"
   ]
  },
  {
   "cell_type": "code",
   "execution_count": null,
   "id": "0e1ca4c7",
   "metadata": {},
   "outputs": [],
   "source": [
    "#pop()"
   ]
  },
  {
   "cell_type": "code",
   "execution_count": null,
   "id": "fead3f85",
   "metadata": {},
   "outputs": [],
   "source": [
    "#Implementation uing LifoQueue Modules"
   ]
  },
  {
   "cell_type": "code",
   "execution_count": null,
   "id": "5ee62d75",
   "metadata": {},
   "outputs": [],
   "source": [
    "# empty()\n",
    "# maxsize()\n",
    "# get()\n",
    "# full()\n",
    "# put()"
   ]
  },
  {
   "cell_type": "code",
   "execution_count": null,
   "id": "315a2ff6",
   "metadata": {},
   "outputs": [],
   "source": [
    "from queue import LifoQueue\n",
    "mystack=LifoQueue(maxsize=3)\n",
    "print(mystack.qsize())"
   ]
  },
  {
   "cell_type": "code",
   "execution_count": null,
   "id": "0caf549c",
   "metadata": {},
   "outputs": [],
   "source": [
    "mystack.put('x')\n",
    "mystack.put('y')\n",
    "mystack.put('z')"
   ]
  },
  {
   "cell_type": "code",
   "execution_count": null,
   "id": "d5fa5553",
   "metadata": {},
   "outputs": [],
   "source": [
    "print(mystack)"
   ]
  },
  {
   "cell_type": "code",
   "execution_count": null,
   "id": "3cb8a703",
   "metadata": {},
   "outputs": [],
   "source": [
    "print(\"Stack is full\",mystack.full())"
   ]
  },
  {
   "cell_type": "code",
   "execution_count": null,
   "id": "a21df6ef",
   "metadata": {},
   "outputs": [],
   "source": [
    "#Queue in Python"
   ]
  },
  {
   "cell_type": "code",
   "execution_count": null,
   "id": "01abf829",
   "metadata": {},
   "outputs": [],
   "source": [
    "#REAR--Inserted\n",
    "#FRONT--Removed"
   ]
  },
  {
   "cell_type": "code",
   "execution_count": null,
   "id": "a493a96e",
   "metadata": {},
   "outputs": [],
   "source": [
    "#Operations in Python\n",
    "# Enqueue\n",
    "# Dequeue\n",
    "# Front\n",
    "# Rear"
   ]
  },
  {
   "cell_type": "code",
   "execution_count": null,
   "id": "b1236e52",
   "metadata": {},
   "outputs": [],
   "source": [
    "# Methods\n",
    "\n",
    "# put(item)\n",
    "# get()\n",
    "# empty()\n",
    "# qsize()\n",
    "# full()"
   ]
  },
  {
   "cell_type": "code",
   "execution_count": null,
   "id": "b318d646",
   "metadata": {},
   "outputs": [],
   "source": [
    "#Adding the data to the list\n",
    "q1=[]\n",
    "q1.append('a1')\n",
    "q1.append('a2')\n",
    "q1.append('a3')\n",
    "print(q1)"
   ]
  },
  {
   "cell_type": "code",
   "execution_count": null,
   "id": "f4e92f6e",
   "metadata": {},
   "outputs": [],
   "source": [
    "from queue import Queue\n",
    "q1=Queue()\n",
    "q1.put('a1')\n",
    "q1.put('a2')\n",
    "q1.put('a3')\n",
    "q1.put('a4')\n",
    "print(q1)"
   ]
  },
  {
   "cell_type": "code",
   "execution_count": null,
   "id": "d35c1781",
   "metadata": {},
   "outputs": [],
   "source": [
    "print(q1.get())"
   ]
  },
  {
   "cell_type": "code",
   "execution_count": null,
   "id": "08793c8b",
   "metadata": {},
   "outputs": [],
   "source": [
    "print(q1.get_nowait())"
   ]
  },
  {
   "cell_type": "code",
   "execution_count": null,
   "id": "95ac7cd1",
   "metadata": {},
   "outputs": [],
   "source": [
    "while(q1.empty()==False):\n",
    "    print(q1.queue[0],end=\"\")\n",
    "    q1.get()"
   ]
  },
  {
   "cell_type": "code",
   "execution_count": null,
   "id": "1de0763f",
   "metadata": {},
   "outputs": [],
   "source": [
    "#deque"
   ]
  },
  {
   "cell_type": "code",
   "execution_count": null,
   "id": "a7c0ea6d",
   "metadata": {},
   "outputs": [],
   "source": [
    "from collections import deque"
   ]
  },
  {
   "cell_type": "code",
   "execution_count": null,
   "id": "47f05f4d",
   "metadata": {},
   "outputs": [],
   "source": [
    "q1=deque()\n",
    "q1.append('a1')\n",
    "q1.append('a2')\n",
    "q1.append('a3')\n",
    "print(q1)"
   ]
  },
  {
   "cell_type": "code",
   "execution_count": null,
   "id": "bc34005a",
   "metadata": {},
   "outputs": [],
   "source": [
    "print(q1.popleft())"
   ]
  },
  {
   "cell_type": "code",
   "execution_count": null,
   "id": "fcb3a217",
   "metadata": {},
   "outputs": [],
   "source": [
    "#Multiprocessing Queue class"
   ]
  },
  {
   "cell_type": "code",
   "execution_count": null,
   "id": "60f1f1ee",
   "metadata": {},
   "outputs": [],
   "source": [
    "from multiprocessing import Queue\n",
    "q1=Queue()\n",
    "q1.put('a1')\n",
    "q1.put('a2')\n",
    "q1.put('a3')\n",
    "print(q1.get())"
   ]
  },
  {
   "cell_type": "code",
   "execution_count": null,
   "id": "16f89ad1",
   "metadata": {},
   "outputs": [],
   "source": [
    "#PriorityQueue class"
   ]
  },
  {
   "cell_type": "code",
   "execution_count": null,
   "id": "11678343",
   "metadata": {},
   "outputs": [],
   "source": [
    "from queue import PriorityQueue\n",
    "q1=PriorityQueue()\n",
    "q1.put((1,'a1'))\n",
    "q1.put((2,'a2'))\n",
    "q1.put((3,'a3'))\n",
    "while not q1.empty():\n",
    "    next_item=q1.get()\n",
    "    print(next_item)"
   ]
  },
  {
   "cell_type": "code",
   "execution_count": null,
   "id": "9057e795",
   "metadata": {},
   "outputs": [],
   "source": [
    "#Python Exception Handling"
   ]
  },
  {
   "cell_type": "code",
   "execution_count": null,
   "id": "3a7e4b2e",
   "metadata": {},
   "outputs": [],
   "source": [
    "#Syntax Error\n",
    "amount=1000\n",
    "if(amount>1000)"
   ]
  },
  {
   "cell_type": "code",
   "execution_count": null,
   "id": "e1ed9b75",
   "metadata": {},
   "outputs": [],
   "source": [
    "amount=1000\n",
    "if(amount==1000):\n",
    "    print(\"Your amount us::\",amount)"
   ]
  },
  {
   "cell_type": "code",
   "execution_count": null,
   "id": "c1f689b4",
   "metadata": {},
   "outputs": [],
   "source": [
    "#Exception"
   ]
  },
  {
   "cell_type": "code",
   "execution_count": null,
   "id": "550c7676",
   "metadata": {},
   "outputs": [],
   "source": [
    "marks=100\n",
    "a=marks/2\n",
    "a"
   ]
  },
  {
   "cell_type": "code",
   "execution_count": null,
   "id": "50cdfee7",
   "metadata": {},
   "outputs": [],
   "source": [
    "#TypeError\n",
    "x=5\n",
    "y=\"Welcome\"\n",
    "z=x+y\n",
    "print(z)"
   ]
  },
  {
   "cell_type": "code",
   "execution_count": null,
   "id": "f7512f5e",
   "metadata": {},
   "outputs": [],
   "source": [
    "x=5\n",
    "y=\"hello\"\n",
    "try:\n",
    "    z=x+y \n",
    "except TypeError:\n",
    "    print(\"Please check variable declaration\")\n",
    "    get1()\n",
    "def get1():\n",
    "    print(\"This is get1 function\")"
   ]
  },
  {
   "cell_type": "code",
   "execution_count": null,
   "id": "b677c7e6",
   "metadata": {},
   "outputs": [],
   "source": [
    "a=[1,2,3]\n",
    "try:\n",
    "    print(\"Second element=%d\"%(a[1]))\n",
    "    print(\"Fourth element=%d\"%(a[3]))\n",
    "except:\n",
    "    print(\"An error occurred\")"
   ]
  },
  {
   "cell_type": "code",
   "execution_count": null,
   "id": "7d95c873",
   "metadata": {},
   "outputs": [],
   "source": [
    "#Catching Specific Exception\n",
    "# try:\n",
    "#     statement\n",
    "# except IndexError:\n",
    "#     statement\n",
    "# except ValueError:\n",
    "#     statement"
   ]
  },
  {
   "cell_type": "code",
   "execution_count": null,
   "id": "6159e7c0",
   "metadata": {},
   "outputs": [],
   "source": [
    "def fun(a):\n",
    "    if a<4:\n",
    "        b=a/(a-3)\n",
    "    print(\"Value of b=\",b)\n",
    "try:\n",
    "    fun(3)\n",
    "except ZeroDivisionError:\n",
    "    print(\"ZeroDivisionError\")\n",
    "except NameError:\n",
    "    print(\"NameError\")"
   ]
  },
  {
   "cell_type": "code",
   "execution_count": null,
   "id": "997e5961",
   "metadata": {},
   "outputs": [],
   "source": [
    "#Finally keyword in Python"
   ]
  },
  {
   "cell_type": "code",
   "execution_count": null,
   "id": "407c9276",
   "metadata": {},
   "outputs": [],
   "source": [
    "try:\n",
    "    k=5//0\n",
    "    print(k)\n",
    "except ZeroDivisionError:\n",
    "    print(\"Can't divide by Zero\")\n",
    "finally:\n",
    "    print(\"This is finally keyword\")"
   ]
  },
  {
   "cell_type": "code",
   "execution_count": null,
   "id": "247afd14",
   "metadata": {},
   "outputs": [],
   "source": [
    "#Raising Exception\n",
    "#The raise statement allows the Programmer to force a specific exception to occur."
   ]
  },
  {
   "cell_type": "code",
   "execution_count": null,
   "id": "3539a073",
   "metadata": {},
   "outputs": [],
   "source": [
    "try:\n",
    "    raise NameError(\"Hi this is raise\")\n",
    "except NameError:\n",
    "    print(\"An Exception\")"
   ]
  },
  {
   "cell_type": "code",
   "execution_count": null,
   "id": "3f498d83",
   "metadata": {},
   "outputs": [],
   "source": [
    "#OOPS Concepts"
   ]
  },
  {
   "cell_type": "code",
   "execution_count": null,
   "id": "5f95733f",
   "metadata": {},
   "outputs": [],
   "source": [
    "class Sample:\n",
    "    def display(self):\n",
    "        print(\"This is display method\")\n",
    "c1=Sample()\n",
    "c1.display()"
   ]
  },
  {
   "cell_type": "code",
   "execution_count": null,
   "id": "32134de8",
   "metadata": {},
   "outputs": [],
   "source": [
    "class Sample:\n",
    "    def __init__(self):#default method\n",
    "        print(\"This is default method\")\n",
    "    def display(self):\n",
    "        print(\"This is display function\")\n",
    "s1=Sample()\n",
    "s1.display()"
   ]
  },
  {
   "cell_type": "code",
   "execution_count": null,
   "id": "18636b90",
   "metadata": {},
   "outputs": [],
   "source": [
    "class Sample:\n",
    "    def display(self,name):\n",
    "        print(\"Your value is::\",name)\n",
    "s1=Sample()\n",
    "s1.display(\"azar\")"
   ]
  },
  {
   "cell_type": "code",
   "execution_count": null,
   "id": "ebf41792",
   "metadata": {},
   "outputs": [],
   "source": [
    "class Sample:\n",
    "    def __init__(self,name):\n",
    "        self.name=name;\n",
    "    def viewData(self):\n",
    "        print(\"Your value is::\",self.name)\n",
    "s1=Sample(\"azar\")\n",
    "s1.viewData()"
   ]
  },
  {
   "cell_type": "code",
   "execution_count": null,
   "id": "78914f81",
   "metadata": {},
   "outputs": [],
   "source": [
    "#Single Inheritance\n",
    "class B:\n",
    "    def addProduct(self,pid):\n",
    "        print(\"Your Baseclass value::\",pid)\n",
    "        self.pname=input(\"Enter the pname is::\")\n",
    "class D(B):\n",
    "    def display(self):\n",
    "        print(\"Your pname is D value::\",self.pname)\n",
    "s1=D()\n",
    "s1.addProduct(1001)\n",
    "s1.display()"
   ]
  },
  {
   "cell_type": "code",
   "execution_count": null,
   "id": "66727347",
   "metadata": {},
   "outputs": [],
   "source": [
    "#Mutiple Inheritance\n",
    "class B1:\n",
    "    def get1(self):\n",
    "        self.p1=int(input(\"Enter the p1 value is::\"))\n",
    "class B2:\n",
    "    def get2(self):\n",
    "        self.p2=int(input(\"Enter the p2 value is::\"))\n",
    "class D1(B1,B2):\n",
    "    def display(self):\n",
    "        self.p3=self.p1*self.p2;\n",
    "        print(\"Your result is D class::\",self.p3)\n",
    "s1=D1()\n",
    "s1.get1()\n",
    "s1.get2()\n",
    "s1.display()\n"
   ]
  },
  {
   "cell_type": "code",
   "execution_count": null,
   "id": "11b53d42",
   "metadata": {},
   "outputs": [],
   "source": [
    "#Multilevel Inheritance\n",
    "class B1:\n",
    "    def get1(self):\n",
    "        self.p1=int(input(\"Enter the p1 value is::\"))\n",
    "class B2(B1):\n",
    "    def get2(self):\n",
    "        self.p2=int(input(\"Enter the p2 value is::\"))\n",
    "class D1(B2):\n",
    "    def display(self):\n",
    "        self.p3=self.p1*self.p2;\n",
    "        print(\"Your result is::\",self.p3)\n",
    "s1=D1()\n",
    "s1.get1()\n",
    "s1.get2()\n",
    "s1.display()"
   ]
  },
  {
   "cell_type": "code",
   "execution_count": null,
   "id": "23abfc4f",
   "metadata": {},
   "outputs": [],
   "source": [
    "#Local Scope\n",
    "def myfun1():\n",
    "    x=100#Local variable\n",
    "    print(x)\n",
    "myfun1()"
   ]
  },
  {
   "cell_type": "code",
   "execution_count": null,
   "id": "b0b549b8",
   "metadata": {},
   "outputs": [],
   "source": [
    "def myfun():\n",
    "    x=300#Local variable\n",
    "    def myinnerfun():\n",
    "        print(x)\n",
    "    myinnerfun()\n",
    "myfun()"
   ]
  },
  {
   "cell_type": "code",
   "execution_count": null,
   "id": "4a907bb4",
   "metadata": {},
   "outputs": [],
   "source": [
    "#Global Scope\n",
    "x=300#Global variable\n",
    "def myfun1():\n",
    "    print(x)\n",
    "myfun1()\n",
    "print(x)"
   ]
  },
  {
   "cell_type": "code",
   "execution_count": null,
   "id": "43ccf6d3",
   "metadata": {},
   "outputs": [],
   "source": [
    "#Naming variables\n",
    "x=300#Global variable\n",
    "def fun1():\n",
    "    x=200;#local variable\n",
    "    print(x)\n",
    "fun1()\n",
    "print(x)"
   ]
  },
  {
   "cell_type": "code",
   "execution_count": null,
   "id": "1de29bc1",
   "metadata": {},
   "outputs": [],
   "source": [
    "#Global keyword\n",
    "def myfun():\n",
    "    global x\n",
    "    x=300\n",
    "myfun()\n",
    "print(x)"
   ]
  },
  {
   "cell_type": "code",
   "execution_count": null,
   "id": "5f0b4b69",
   "metadata": {},
   "outputs": [],
   "source": [
    "#File Concepts"
   ]
  },
  {
   "cell_type": "code",
   "execution_count": null,
   "id": "36622120",
   "metadata": {},
   "outputs": [],
   "source": [
    "f=open(\"sample.txt\",\"r\")\n",
    "print(f.read())"
   ]
  },
  {
   "cell_type": "code",
   "execution_count": null,
   "id": "4ab00522",
   "metadata": {},
   "outputs": [],
   "source": [
    "for i in f:\n",
    "    print(f.read())\n",
    "f.close()"
   ]
  },
  {
   "cell_type": "code",
   "execution_count": null,
   "id": "0706d1c9",
   "metadata": {},
   "outputs": [],
   "source": [
    "f=open(\"sample.txt\",\"a\")\n",
    "f.write(\"hai\")\n",
    "f.close()\n",
    "f=open(\"sample.txt\",\"r\")\n",
    "print(f.read())"
   ]
  },
  {
   "cell_type": "code",
   "execution_count": null,
   "id": "607ddbf2",
   "metadata": {},
   "outputs": [],
   "source": [
    "f=open(\"sample.txt\",\"w\")\n",
    "f.write(\"haiwelcome\")\n",
    "f.close()"
   ]
  },
  {
   "cell_type": "code",
   "execution_count": null,
   "id": "3ae0f7f1",
   "metadata": {},
   "outputs": [],
   "source": [
    "f=open(\"sample.txt\",\"r\")\n",
    "print(f.read())"
   ]
  },
  {
   "cell_type": "code",
   "execution_count": null,
   "id": "89bf0dc4",
   "metadata": {},
   "outputs": [],
   "source": [
    "f=open(\"myfile2.txt\",\"x\")\n",
    "f=open(\"myfile2.txt\",\"w\")\n",
    "f.write(\"welcome\")\n",
    "\n",
    "f=open(\"myfile2.txt\",\"r\")\n",
    "print(f.read())"
   ]
  },
  {
   "cell_type": "code",
   "execution_count": null,
   "id": "01370e3c",
   "metadata": {},
   "outputs": [],
   "source": [
    "import os\n",
    "os.remove(\"myfile1.txt\")"
   ]
  },
  {
   "cell_type": "code",
   "execution_count": null,
   "id": "23f829d0",
   "metadata": {},
   "outputs": [],
   "source": [
    "import os\n",
    "if os.path.exists(\"myfile2.txt\"):\n",
    "    os.remove(\"myfile2.txt\")\n",
    "else:\n",
    "    print(\"The file does not exist\")"
   ]
  },
  {
   "cell_type": "code",
   "execution_count": null,
   "id": "d56a4b83",
   "metadata": {},
   "outputs": [],
   "source": [
    "#Handling File Exception\n",
    "try:\n",
    "    f=open(\"myfile.txt\",\"r\")\n",
    "    print(f.read())\n",
    "except FileNotFoundError:\n",
    "    print(\"Please check the file\")"
   ]
  },
  {
   "cell_type": "code",
   "execution_count": null,
   "id": "4817c0dd",
   "metadata": {},
   "outputs": [],
   "source": [
    "#Polymorphism in Python"
   ]
  },
  {
   "cell_type": "code",
   "execution_count": null,
   "id": "4a2ce118",
   "metadata": {},
   "outputs": [],
   "source": [
    "print(len(\"welcome\"))\n",
    "print(len([10,20,30,40]))"
   ]
  },
  {
   "cell_type": "code",
   "execution_count": null,
   "id": "771c65b1",
   "metadata": {},
   "outputs": [],
   "source": [
    "def add(x,y,z=0):\n",
    "    return x+y+z\n",
    "print(add(2,3))\n",
    "print(add(2,3,4))"
   ]
  },
  {
   "cell_type": "code",
   "execution_count": null,
   "id": "fb91434d",
   "metadata": {},
   "outputs": [],
   "source": [
    "#Class Method Polymorphic\n",
    "class India():\n",
    "    def capital(self):\n",
    "        print(\"NewDelhi\")\n",
    "    def language(self):\n",
    "        print(\"Hindi\")\n",
    "    def type(self):\n",
    "        print(\"India type\")\n",
    "class USA():\n",
    "    def capital(self):\n",
    "        print(\"Txs\")\n",
    "    def language(self):\n",
    "        print(\"English\")\n",
    "    def type(self):\n",
    "        print(\"usa type\")\n",
    "obj_ind=India()\n",
    "obj_usa=USA()\n",
    "for country in(obj_ind,obj_usa):\n",
    "    country.capital()\n",
    "    country.language()\n",
    "    country.type()\n"
   ]
  },
  {
   "cell_type": "code",
   "execution_count": null,
   "id": "eab4c051",
   "metadata": {},
   "outputs": [],
   "source": [
    "#Polymorphism with Inheritance  (Method Overridng)\n",
    "class Bird:\n",
    "    def intro(self):\n",
    "        print(\"There are many types of birds\")\n",
    "    def flight(self):\n",
    "        print(\"Most of the birds can fly but some cannot\")\n",
    "class sparrow(Bird):\n",
    "    def flight(self):\n",
    "        print(\"Sparrows can fly\")\n",
    "class ostrich(Bird):\n",
    "    def flight(self):\n",
    "        print(\"Ostriches cannot fly\")\n",
    "obj_bird=Bird()\n",
    "obj_spr=sparrow()\n",
    "obj_ost=ostrich()\n",
    "obj_bird.intro()\n",
    "obj_bird.flight()\n",
    "obj_spr.intro()\n",
    "obj_spr.flight()\n",
    "obj_ost.intro()\n",
    "obj_ost.flight()\n"
   ]
  },
  {
   "cell_type": "code",
   "execution_count": null,
   "id": "ef5e2458",
   "metadata": {},
   "outputs": [],
   "source": [
    "#Abstraction Concepts\n",
    "from abc import ABC,abstractmethod\n",
    "class Polygon(ABC):#AbstractBaseClass\n",
    "    #AbstractMethod\n",
    "    def noofsides(self):\n",
    "        pass\n",
    "class Triangle(Polygon):\n",
    "    def noofsides(self):\n",
    "        print(\"I have 3 side\")\n",
    "class Hexagon(Polygon):\n",
    "    def noofsides(self):\n",
    "        print(\"I have 6 side\")\n",
    "R=Triangle()\n",
    "R.noofsides()\n",
    "K=Hexagon()\n",
    "K.noofsides()"
   ]
  },
  {
   "cell_type": "code",
   "execution_count": null,
   "id": "fa47effa",
   "metadata": {},
   "outputs": [],
   "source": [
    "#Protected Members\n",
    "class Base:\n",
    "    def __init__(self):\n",
    "        self._a=2;\n",
    "class Derived(Base):\n",
    "    def __init__(self):\n",
    "        #calling constructor of Base class\n",
    "        Base.__init__(self)\n",
    "        print(\"Calling Protected member of baseclass\",self._a)\n",
    "        \n",
    "        #Modify the Protected variable\n",
    "        self.__a=3\n",
    "        print(\"Calling modified protected member outside class::\",self._a)\n",
    "        \n",
    "obj1=Derived()\n",
    "obj2=Base()\n",
    "#Calling Protected member\n",
    "print(\"Accessing protected memeber of obj1::\",obj1._a)\n",
    "#Accessing the Protected variabel outside\n",
    "print(\"Accessing protected variabel outside::\",obj2._a)"
   ]
  },
  {
   "cell_type": "code",
   "execution_count": null,
   "id": "b8ae238c",
   "metadata": {},
   "outputs": [],
   "source": [
    "#Private Memebers\n",
    "class Base:\n",
    "    def __init__(self):\n",
    "        self.a=\"welcome of a\"\n",
    "        self.__c=\"welcome of c\"\n",
    "#Creating a derived class\n",
    "class Derived(Base):\n",
    "    def __init__(self):\n",
    "        #calling constructor of Base class\n",
    "        Base.__init__(self)\n",
    "        print(\"Calling private member of base class:\")\n",
    "        print(self.__c)\n",
    "#Derived code\n",
    "obj1=Base()\n",
    "print(obj1.a)\n"
   ]
  },
  {
   "cell_type": "code",
   "execution_count": null,
   "id": "be2758d7",
   "metadata": {},
   "outputs": [],
   "source": [
    "#Tkinter Concepts"
   ]
  },
  {
   "cell_type": "code",
   "execution_count": null,
   "id": "394dfc91",
   "metadata": {},
   "outputs": [],
   "source": [
    "import tkinter\n",
    "p=tkinter.Tk()\n",
    "p.mainloop()"
   ]
  },
  {
   "cell_type": "code",
   "execution_count": null,
   "id": "e7ddbd36",
   "metadata": {},
   "outputs": [],
   "source": [
    "from tkinter import *\n",
    "p=Tk()\n",
    "redbtn=Button(p,text=\"Red\",fg=\"red\")\n",
    "redbtn.pack(side=LEFT)\n",
    "greenbtn=Button(p,text=\"Black\",fg=\"green\")\n",
    "greenbtn.pack(side=RIGHT)\n",
    "bluebtn=Button(p,text=\"Blue\",fg=\"blue\")\n",
    "bluebtn.pack(side=TOP)\n",
    "p.mainloop()"
   ]
  },
  {
   "cell_type": "code",
   "execution_count": null,
   "id": "8c60f02b",
   "metadata": {},
   "outputs": [],
   "source": [
    "from tkinter import *\n",
    "p=Tk()\n",
    "name=Label(p,text=\"Name\").grid(row=0,column=0)\n",
    "e1=Entry(p).grid(row=0,column=1)\n",
    "password=Label(p,text=\"Password\").grid(row=1,column=0)\n",
    "e2=Entry(p).grid(row=1,column=1)\n",
    "\n",
    "submit=Button(p,text=\"Submit\").grid(row=4,column=0)\n",
    "\n",
    "rest=Button(p,text=\"Rest\").grid(row=4,column=1)\n",
    "p.mainloop()"
   ]
  },
  {
   "cell_type": "code",
   "execution_count": null,
   "id": "27bcb89e",
   "metadata": {},
   "outputs": [],
   "source": [
    "\n",
    "from tkinter import *\n",
    "t1=Tk()\n",
    "t1.geometry(\"400x250\")\n",
    "name=Label(t1,text=\"Name\").place(x=30,y=50)\n",
    "email=Label(t1,text=\"Email\").place(x=30,y=90)\n",
    "password=Label(t1,text=\"password\").place(x=30,y=130)\n",
    "e1=Entry(t1).place(x=80,y=50)\n",
    "e2=Entry(t1).place(x=80,y=90)\n",
    "e3=Entry(t1).place(x=95,y=130)\n",
    "submit=Button(t1,text=\"Submit\").place(x=30,y=160)\n",
    "Rest=Button(t1,text=\"Rest\").place(x=90,y=160)\n",
    "t1.mainloop()\n"
   ]
  },
  {
   "cell_type": "code",
   "execution_count": null,
   "id": "87d3c888",
   "metadata": {},
   "outputs": [],
   "source": [
    "#CheckButton\n",
    "\n",
    "from tkinter import *\n",
    "t=Tk()\n",
    "t.geometry(\"200x200\")\n",
    "checkvar1=IntVar()\n",
    "checkvar2=IntVar()\n",
    "checkvar3=IntVar()\n",
    "chkbtn1=Checkbutton(t,text=\"C\",variable=checkvar1,onvalue=0,offvalue=0,height=2,width=10)\n",
    "chkbtn2=Checkbutton(t,text=\"Java\",variable=checkvar2,onvalue=1,offvalue=0,height=2,width=10)\n",
    "chkbtn1.pack()\n",
    "chkbtn2.pack()\n",
    "t.mainloop()"
   ]
  },
  {
   "cell_type": "code",
   "execution_count": 15,
   "id": "3c76cf41",
   "metadata": {},
   "outputs": [],
   "source": [
    "#Creating a top level menu\n",
    "\n",
    "from tkinter import *\n",
    "top=Tk()\n",
    "def home():\n",
    "    print(\"Home\")\n",
    "def addProduct():\n",
    "    print(\"addproduct\")\n",
    "def aboutus():\n",
    "    print(\"aboutus\")\n",
    "    \n",
    "#Create a toplevel menu\n",
    "menubar=Menu()\n",
    "menubar.add_command(label=\"Home\",command=home)\n",
    "menubar.add_command(label=\"AddProduct\",command=addProduct)\n",
    "# menubar.add_command(label=\"AboutUs\",command=aboutus)\n",
    "menubar.add_command(label=\"AboutUs\",command=top.quit)\n",
    "\n",
    "#display the menu\n",
    "top.config(menu=menubar)\n",
    "\n",
    "top.mainloop()\n",
    "\n"
   ]
  },
  {
   "cell_type": "code",
   "execution_count": 1,
   "id": "249c0d8d",
   "metadata": {},
   "outputs": [],
   "source": [
    "from tkinter import Toplevel,Button,Tk,Menu"
   ]
  },
  {
   "cell_type": "code",
   "execution_count": 5,
   "id": "56b6c3c5",
   "metadata": {},
   "outputs": [],
   "source": [
    "top=Tk()\n",
    "menubar=Menu(top)\n",
    "file=Menu(menubar,tearoff=0)\n",
    "file.add_command(label=\"New\")\n",
    "file.add_command(label=\"Open\")\n",
    "file.add_command(label=\"Save\")\n",
    "file.add_command(label=\"SaveAs\")\n",
    "file.add_command(label=\"Close\")\n",
    "file.add_separator()\n",
    "file.add_command(label=\"Exit\",command=top.quit)\n",
    "menubar.add_cascade(label=\"File\",menu=file)\n",
    "edit=Menu(menubar,tearoff=0)\n",
    "edit.add_command(label=\"Undo\")\n",
    "edit.add_separator()\n",
    "top.config(menu=menubar)\n",
    "\n",
    "top.mainloop()"
   ]
  },
  {
   "cell_type": "code",
   "execution_count": null,
   "id": "5500d4ee",
   "metadata": {},
   "outputs": [],
   "source": [
    "from tkinter import *\n",
    "top=Tk()\n",
    "top.geometry(\"200x200\")\n",
    "#Creating a Simple Canvas\n",
    "c=Canvas(top,bg=\"pink\",heigh)"
   ]
  },
  {
   "cell_type": "code",
   "execution_count": 2,
   "id": "c8cee9c7",
   "metadata": {},
   "outputs": [],
   "source": [
    "#ListBox\n",
    "from tkinter import *\n",
    "t=Tk()\n",
    "lb=Listbox(t)\n",
    "lb.insert(1,'Python')\n",
    "lb.insert(2,'Java')\n",
    "lb.insert(3,'C++')\n",
    "lb.pack()\n",
    "t.mainloop()"
   ]
  },
  {
   "cell_type": "code",
   "execution_count": 3,
   "id": "390b32ca",
   "metadata": {},
   "outputs": [],
   "source": [
    "from tkinter import *\n",
    "m=Tk()\n",
    "msg=\"This is good batch\"\n",
    "msgvar=Message(m,text=msg)\n",
    "msgvar.config(bg='lightgreen')\n",
    "msgvar.pack()\n",
    "m.mainloop()"
   ]
  }
 ],
 "metadata": {
  "kernelspec": {
   "display_name": "Python 3 (ipykernel)",
   "language": "python",
   "name": "python3"
  },
  "language_info": {
   "codemirror_mode": {
    "name": "ipython",
    "version": 3
   },
   "file_extension": ".py",
   "mimetype": "text/x-python",
   "name": "python",
   "nbconvert_exporter": "python",
   "pygments_lexer": "ipython3",
   "version": "3.10.9"
  }
 },
 "nbformat": 4,
 "nbformat_minor": 5
}
